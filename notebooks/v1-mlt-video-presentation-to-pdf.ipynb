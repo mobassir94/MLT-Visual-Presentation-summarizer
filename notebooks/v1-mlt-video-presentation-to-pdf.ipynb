{
 "cells": [
  {
   "cell_type": "markdown",
   "id": "43db2f70",
   "metadata": {
    "papermill": {
     "duration": 0.009179,
     "end_time": "2022-08-10T08:39:06.295476",
     "exception": false,
     "start_time": "2022-08-10T08:39:06.286297",
     "status": "completed"
    },
    "tags": []
   },
   "source": [
    "# install necessary packages"
   ]
  },
  {
   "cell_type": "code",
   "execution_count": 1,
   "id": "134802f2",
   "metadata": {
    "_cell_guid": "b1076dfc-b9ad-4769-8c92-a6c4dae69d19",
    "_uuid": "8f2839f25d086af736a60e9eeb907d3b93b6e0e5",
    "execution": {
     "iopub.execute_input": "2022-08-10T08:39:06.315006Z",
     "iopub.status.busy": "2022-08-10T08:39:06.314564Z",
     "iopub.status.idle": "2022-08-10T08:42:37.999179Z",
     "shell.execute_reply": "2022-08-10T08:42:37.997842Z"
    },
    "papermill": {
     "duration": 211.697064,
     "end_time": "2022-08-10T08:42:38.002234",
     "exception": false,
     "start_time": "2022-08-10T08:39:06.305170",
     "status": "completed"
    },
    "tags": []
   },
   "outputs": [],
   "source": [
    "%%capture\n",
    "\n",
    "!pip install pytube\n",
    "!pip install imutils\n",
    "!pip install img2pdf\n",
    "!pip install piqa\n",
    "!pip install img2pdf\n",
    "\n",
    "!pip install paddleocr==2.5.0.3\n",
    "cpu = False\n",
    "if(cpu):\n",
    "    !pip install paddlepaddle==2.3.0\n",
    "else:\n",
    "    #!pip install paddlepaddle-gpu==2.3.0\n",
    "    !python -m pip install paddlepaddle-gpu==2.3.0.post111 -f https://www.paddlepaddle.org.cn/whl/linux/mkl/avx/stable.html\n",
    "        \n",
    "\n",
    "# You can write up to 20GB to the current directory (/kaggle/working/) that gets preserved as output when you create a version using \"Save & Run All\" \n",
    "# You can also write temporary files to /kaggle/temp/, but they won't be saved outside of the current session"
   ]
  },
  {
   "cell_type": "markdown",
   "id": "661cf2d7",
   "metadata": {
    "papermill": {
     "duration": 0.007556,
     "end_time": "2022-08-10T08:42:38.018236",
     "exception": false,
     "start_time": "2022-08-10T08:42:38.010680",
     "status": "completed"
    },
    "tags": []
   },
   "source": [
    "# Cool Imports"
   ]
  },
  {
   "cell_type": "code",
   "execution_count": 2,
   "id": "b6636f13",
   "metadata": {
    "_kg_hide-input": true,
    "execution": {
     "iopub.execute_input": "2022-08-10T08:42:38.037562Z",
     "iopub.status.busy": "2022-08-10T08:42:38.036034Z",
     "iopub.status.idle": "2022-08-10T08:42:43.395685Z",
     "shell.execute_reply": "2022-08-10T08:42:43.394557Z"
    },
    "papermill": {
     "duration": 5.372869,
     "end_time": "2022-08-10T08:42:43.398478",
     "exception": false,
     "start_time": "2022-08-10T08:42:38.025609",
     "status": "completed"
    },
    "tags": []
   },
   "outputs": [],
   "source": [
    "\n",
    "# This Python 3 environment comes with many helpful analytics libraries installed\n",
    "# It is defined by the kaggle/python Docker image: https://github.com/kaggle/docker-python\n",
    "# For example, here's several helpful packages to load\n",
    "\n",
    "import numpy as np # linear algebra\n",
    "import pandas as pd # data processing, CSV file I/O (e.g. pd.read_csv)\n",
    "\n",
    "# Input data files are available in the read-only \"../input/\" directory\n",
    "# For example, running this (by clicking run or pressing Shift+Enter) will list all files under the input directory\n",
    "\n",
    "import time\n",
    "import cv2\n",
    "import imutils\n",
    "import shutil\n",
    "import img2pdf\n",
    "import glob\n",
    "\n",
    "from IPython.display import Video,Image\n",
    "\n",
    "import math\n",
    "import os\n",
    "\n",
    "import pytube\n",
    "from pytube import YouTube \n",
    "\n",
    "import zipfile\n",
    "    \n",
    "\n",
    "import matplotlib.pyplot as plt\n",
    "from skimage.metrics import structural_similarity\n",
    "\n",
    "import torch\n",
    "\n",
    "from shapely.geometry import Polygon\n",
    "\n",
    "from torchvision import transforms\n",
    "from piqa import SSIM\n",
    "\n",
    "\n",
    "# 1. Import paddleocr class from paddleocr\n",
    "from paddleocr import PaddleOCR\n",
    "import numpy as np\n",
    "import cv2\n",
    "import matplotlib.pyplot as plt\n",
    "from PIL import Image\n",
    "from pathlib import Path   \n",
    "from PIL import Image as im\n",
    "import os\n",
    "import copy\n",
    "import img2pdf\n",
    "\n",
    "plt.figure(figsize = (1000,1000))\n",
    "# Add this command to display a notebook drawing using matplotlib.pyplot\n",
    "%matplotlib inline"
   ]
  },
  {
   "cell_type": "code",
   "execution_count": 3,
   "id": "b1db698a",
   "metadata": {
    "execution": {
     "iopub.execute_input": "2022-08-10T08:42:43.415952Z",
     "iopub.status.busy": "2022-08-10T08:42:43.415344Z",
     "iopub.status.idle": "2022-08-10T08:42:43.421761Z",
     "shell.execute_reply": "2022-08-10T08:42:43.420833Z"
    },
    "papermill": {
     "duration": 0.018498,
     "end_time": "2022-08-10T08:42:43.424721",
     "exception": false,
     "start_time": "2022-08-10T08:42:43.406223",
     "status": "completed"
    },
    "tags": []
   },
   "outputs": [
    {
     "name": "stdout",
     "output_type": "stream",
     "text": [
      "12.1.0\n",
      "4.4.0\n",
      "0.4.4\n",
      "0.5.4\n",
      "0.4.4\n"
     ]
    }
   ],
   "source": [
    "print(pytube.__version__)\n",
    "print(cv2.__version__)\n",
    "print(img2pdf.__version__)\n",
    "print(imutils.__version__)\n",
    "print(img2pdf.__version__)"
   ]
  },
  {
   "cell_type": "markdown",
   "id": "7d62f834",
   "metadata": {
    "papermill": {
     "duration": 0.007527,
     "end_time": "2022-08-10T08:42:43.441248",
     "exception": false,
     "start_time": "2022-08-10T08:42:43.433721",
     "status": "completed"
    },
    "tags": []
   },
   "source": [
    "# Motivation\n",
    "\n",
    "the main idea of this approach was to  find unique slides from presentation videos using the dbresnet text detection models detection output result on consecutive image pairs (it gives us information about similar text between image pairs and this feature can indicate the image pair are near duplicate or not.if duplicate then, one of them needs to be removed. but few difficulties were observed :\n",
    "\n",
    "1. slide can contain various animation and in that case positional information are lost\n",
    "2. launching dbnet on many images (frame images) is time consuming\n",
    "\n",
    "to tackle these issues we combine both SSIM and dbresnet50 for efficient 3 step filtering. SSIM first reduces many frames and it is faster,then on reduced frames we apply dbresnet50 and ensemble of SSIM and dbresnet50 for efficient filtering\n",
    "\n",
    "\n",
    "# summary / contributions\n",
    "\n",
    "this notebook demonstrates how to convert multilingual presentation videos into readable pdf file. the solution is developed by combining structural similarity index measure (SSIM) with [Real-Time Scene Text Detection with Differentiable Binarization and Adaptive Scale Fusion](https://arxiv.org/abs/2202.10304) of [paddleocr](https://github.com/PaddlePaddle/PaddleOCR)\n",
    "\n",
    "we compute both ssim and dbnet using gpu,so the code is enough fast.\n",
    "\n",
    "\n",
    "\n",
    "**Rough Pseudo Code :**\n",
    "\n",
    "step 1 -> gather youtube video\n",
    "\n",
    "step 2 -> extract distinct unique frames from videos\n",
    "\n",
    "step 3 -> filter 1 : apply ssim on consecutive frame pairs with high confident on step 2 dataset to reduce redundant frames (use ssim on gpu)\n",
    "\n",
    "step 4 -> filter 2 : select least frames by eliminating duplicate (use high IOU hit count between  image pairs for more filtering on filter 1 dataset)\n",
    "\n",
    "step 5 -> filter 3(high detection overlap count followed by high ssim checking) : on filter 2 data, we again count matched bboxes between image pair(using dbresnet50) and check if we have high bbox detection coverage or not,if yes,then we eliminate first image from image pair as we have detected near duplicate again\n",
    "\n",
    "**NOTE ->  the solution is multilingual,hence it should work on english,bangla,hindi etc presentation videos**"
   ]
  },
  {
   "cell_type": "markdown",
   "id": "130ac0f4",
   "metadata": {
    "papermill": {
     "duration": 0.007318,
     "end_time": "2022-08-10T08:42:43.456135",
     "exception": false,
     "start_time": "2022-08-10T08:42:43.448817",
     "status": "completed"
    },
    "tags": []
   },
   "source": [
    "# Gather YouTube Videos"
   ]
  },
  {
   "cell_type": "code",
   "execution_count": 4,
   "id": "038403a0",
   "metadata": {
    "execution": {
     "iopub.execute_input": "2022-08-10T08:42:43.472210Z",
     "iopub.status.busy": "2022-08-10T08:42:43.471881Z",
     "iopub.status.idle": "2022-08-10T08:42:55.942182Z",
     "shell.execute_reply": "2022-08-10T08:42:55.940973Z"
    },
    "papermill": {
     "duration": 12.481139,
     "end_time": "2022-08-10T08:42:55.944737",
     "exception": false,
     "start_time": "2022-08-10T08:42:43.463598",
     "status": "completed"
    },
    "tags": []
   },
   "outputs": [
    {
     "name": "stdout",
     "output_type": "stream",
     "text": [
      "\n",
      "\n",
      "title ->\n",
      " Sesamoid bone. Prof. Dr. Md. Ashfaqur Rahman\n",
      "\n",
      "\n",
      "views ->\n",
      " 812\n",
      "\n",
      "\n",
      "\n",
      "\n",
      "length ->\n",
      " 320\n",
      "\n",
      "\n",
      "author ->\n",
      " We like Anatomy\n",
      "\n",
      "\n",
      "\n",
      "\n",
      "description ->\n",
      " In Bangla\n",
      "\n",
      "\n",
      "\n",
      "\n",
      "rating ->\n",
      " None\n",
      "\n",
      "\n",
      "thumbnail_url ->\n",
      " https://i.ytimg.com/vi/k6lCD0iVExo/sddefault.jpg\n",
      "\n",
      "\n",
      "publish_date ->\n",
      " 2021-07-11 00:00:00\n",
      "\n",
      "\n",
      "streams ->\n",
      " [<Stream: itag=\"17\" mime_type=\"video/3gpp\" res=\"144p\" fps=\"6fps\" vcodec=\"mp4v.20.3\" acodec=\"mp4a.40.2\" progressive=\"True\" type=\"video\">, <Stream: itag=\"18\" mime_type=\"video/mp4\" res=\"360p\" fps=\"25fps\" vcodec=\"avc1.42001E\" acodec=\"mp4a.40.2\" progressive=\"True\" type=\"video\">, <Stream: itag=\"22\" mime_type=\"video/mp4\" res=\"720p\" fps=\"25fps\" vcodec=\"avc1.64001F\" acodec=\"mp4a.40.2\" progressive=\"True\" type=\"video\">, <Stream: itag=\"137\" mime_type=\"video/mp4\" res=\"1080p\" fps=\"25fps\" vcodec=\"avc1.640028\" progressive=\"False\" type=\"video\">, <Stream: itag=\"136\" mime_type=\"video/mp4\" res=\"720p\" fps=\"25fps\" vcodec=\"avc1.64001f\" progressive=\"False\" type=\"video\">, <Stream: itag=\"135\" mime_type=\"video/mp4\" res=\"480p\" fps=\"25fps\" vcodec=\"avc1.4d400a\" progressive=\"False\" type=\"video\">, <Stream: itag=\"134\" mime_type=\"video/mp4\" res=\"360p\" fps=\"25fps\" vcodec=\"avc1.4d401e\" progressive=\"False\" type=\"video\">, <Stream: itag=\"133\" mime_type=\"video/mp4\" res=\"240p\" fps=\"25fps\" vcodec=\"avc1.4d400c\" progressive=\"False\" type=\"video\">, <Stream: itag=\"160\" mime_type=\"video/mp4\" res=\"144p\" fps=\"25fps\" vcodec=\"avc1.4d400b\" progressive=\"False\" type=\"video\">, <Stream: itag=\"139\" mime_type=\"audio/mp4\" abr=\"48kbps\" acodec=\"mp4a.40.5\" progressive=\"False\" type=\"audio\">, <Stream: itag=\"140\" mime_type=\"audio/mp4\" abr=\"128kbps\" acodec=\"mp4a.40.2\" progressive=\"False\" type=\"audio\">, <Stream: itag=\"251\" mime_type=\"audio/webm\" abr=\"160kbps\" acodec=\"opus\" progressive=\"False\" type=\"audio\">]\n",
      "\n",
      "\n",
      "Progressive streaming ->\n",
      " <Stream: itag=\"22\" mime_type=\"video/mp4\" res=\"720p\" fps=\"25fps\" vcodec=\"avc1.64001F\" acodec=\"mp4a.40.2\" progressive=\"True\" type=\"video\">\n",
      "filename ->  /kaggle/working/Sesamoid bone Prof Dr Md Ashfaqur Rahman.mp4\n"
     ]
    }
   ],
   "source": [
    "#from https://pythonsansar.com/download-youtube-videos-using-python-pytube/\n",
    "\n",
    "yt_video_links = [\n",
    "    'https://www.youtube.com/watch?v=15lVDRDkJGE&t=2s',\n",
    "    'https://www.youtube.com/watch?v=N3CMTEbPTsE&t=372s',\n",
    "    'https://www.youtube.com/watch?v=jjkwyKkqa9M',\n",
    "    'https://www.youtube.com/watch?v=Ybhi6MJL57M',\n",
    "    'https://www.youtube.com/watch?v=CIolRxDxYvc',\n",
    "    'https://www.youtube.com/watch?v=k6lCD0iVExo'\n",
    "]\n",
    "\n",
    "yt = YouTube(yt_video_links[5])\n",
    "\n",
    "print(\"\\n\\ntitle ->\\n\",yt.title)\n",
    "print(\"\\n\\nviews ->\\n\",yt.views)\n",
    "print(\"\\n\\n\\n\\nlength ->\\n\",yt.length)\n",
    "print(\"\\n\\nauthor ->\\n\",yt.author)\n",
    "print(\"\\n\\n\\n\\ndescription ->\\n\",yt.description)\n",
    "print(\"\\n\\n\\n\\nrating ->\\n\",yt.rating)\n",
    "print(\"\\n\\nthumbnail_url ->\\n\",yt.thumbnail_url)\n",
    "print(\"\\n\\npublish_date ->\\n\",yt.publish_date)\n",
    "print(\"\\n\\nstreams ->\\n\",yt.streams)\n",
    "print(\"\\n\\nProgressive streaming ->\\n\",yt.streams.filter(progressive=True).get_highest_resolution())\n",
    "\n",
    "\n",
    "# this method will download the highest resolution that video is available\n",
    "yt_video = yt.streams.get_highest_resolution()\n",
    "filename = yt_video.download()\n",
    "print(\"filename -> \",filename)"
   ]
  },
  {
   "cell_type": "markdown",
   "id": "7b88ca54",
   "metadata": {
    "papermill": {
     "duration": 0.008006,
     "end_time": "2022-08-10T08:42:55.961370",
     "exception": false,
     "start_time": "2022-08-10T08:42:55.953364",
     "status": "completed"
    },
    "tags": []
   },
   "source": [
    "# Controllable Parameters\n"
   ]
  },
  {
   "cell_type": "code",
   "execution_count": 5,
   "id": "60749fe8",
   "metadata": {
    "execution": {
     "iopub.execute_input": "2022-08-10T08:42:55.978377Z",
     "iopub.status.busy": "2022-08-10T08:42:55.978049Z",
     "iopub.status.idle": "2022-08-10T08:42:55.985321Z",
     "shell.execute_reply": "2022-08-10T08:42:55.984380Z"
    },
    "papermill": {
     "duration": 0.018829,
     "end_time": "2022-08-10T08:42:55.988099",
     "exception": false,
     "start_time": "2022-08-10T08:42:55.969270",
     "status": "completed"
    },
    "tags": []
   },
   "outputs": [
    {
     "name": "stdout",
     "output_type": "stream",
     "text": [
      "1.0\n"
     ]
    }
   ],
   "source": [
    "#choosing dynamic fps based on video length for making computation fast without sacrificing vital informations\n",
    "if(yt.length>=1800):\n",
    "    fps = 0.5\n",
    "elif(yt.length<1800 and yt.length>1200):\n",
    "    fps = 0.75\n",
    "else:\n",
    "    fps = 1.0\n",
    "    \n",
    "class Hparams():\n",
    "    def __init__(self):\n",
    "        self.title = yt.title\n",
    "        self.embed_video = False\n",
    "        self.rmdir = False\n",
    "        self.frames_per_second = fps\n",
    "        self.ssim_threshold = 0.98\n",
    "        self.visualize_img_pairs = True\n",
    "        self.iou_threshold = 0.9\n",
    "        self.min_match_thr = 2\n",
    "        self.conf_thr = 0.8\n",
    "        self.withoutfinal_filter = True\n",
    "        self.is_ssim = False\n",
    " \n",
    "    \n",
    "hp = Hparams()\n",
    "print(hp.frames_per_second)"
   ]
  },
  {
   "cell_type": "code",
   "execution_count": 6,
   "id": "9850b348",
   "metadata": {
    "execution": {
     "iopub.execute_input": "2022-08-10T08:42:56.006775Z",
     "iopub.status.busy": "2022-08-10T08:42:56.005857Z",
     "iopub.status.idle": "2022-08-10T08:42:56.010987Z",
     "shell.execute_reply": "2022-08-10T08:42:56.010050Z"
    },
    "papermill": {
     "duration": 0.016206,
     "end_time": "2022-08-10T08:42:56.013178",
     "exception": false,
     "start_time": "2022-08-10T08:42:55.996972",
     "status": "completed"
    },
    "tags": []
   },
   "outputs": [],
   "source": [
    "if(hp.embed_video):\n",
    "    Video(filename,embed=True)"
   ]
  },
  {
   "cell_type": "markdown",
   "id": "0a07192f",
   "metadata": {
    "papermill": {
     "duration": 0.007673,
     "end_time": "2022-08-10T08:42:56.028824",
     "exception": false,
     "start_time": "2022-08-10T08:42:56.021151",
     "status": "completed"
    },
    "tags": []
   },
   "source": [
    "# Extracting-distinct-unique-frames-from-videos"
   ]
  },
  {
   "cell_type": "code",
   "execution_count": 7,
   "id": "fd828e5c",
   "metadata": {
    "execution": {
     "iopub.execute_input": "2022-08-10T08:42:56.046895Z",
     "iopub.status.busy": "2022-08-10T08:42:56.045898Z",
     "iopub.status.idle": "2022-08-10T08:42:56.054349Z",
     "shell.execute_reply": "2022-08-10T08:42:56.053474Z"
    },
    "papermill": {
     "duration": 0.019531,
     "end_time": "2022-08-10T08:42:56.056258",
     "exception": false,
     "start_time": "2022-08-10T08:42:56.036727",
     "status": "completed"
    },
    "tags": []
   },
   "outputs": [],
   "source": [
    "#https://stackoverflow.com/questions/54045766/python-extracting-distinct-unique-frames-from-videos\n",
    "\n",
    "def video_to_images(video_path, frames_per_second=1):\n",
    "    cam = cv2.VideoCapture(video_path)\n",
    "    frame_list = []\n",
    "    frame_rate = cam.get(cv2.CAP_PROP_FPS) #video frame rate\n",
    "\n",
    "\n",
    "\n",
    "    # frame\n",
    "    current_frame = 0\n",
    "    \n",
    "    # create directory if it does not exist\n",
    "    images_path = f'./images' \n",
    "    if not os.path.exists(images_path):\n",
    "        os.makedirs(images_path)\n",
    "\n",
    "    if frames_per_second > frame_rate or frames_per_second == -1:\n",
    "        frames_per_second = frame_rate\n",
    "    \n",
    "    while(True):\n",
    "        \n",
    "        # reading from frame\n",
    "        ret,frame = cam.read()\n",
    "        \n",
    "        if ret:\n",
    "             \n",
    "            # if video is still left continue creating images\n",
    "            file_name = f'{images_path}/frame' + str(current_frame) + '.jpg'\n",
    "            #print ('Creating...' + file_name)\n",
    "            # print('frame rate', frame_rate)\n",
    "\n",
    "\n",
    "            #print(current_frame,frame_rate,frames_per_second)\n",
    "            if current_frame % (math.floor(frame_rate/frames_per_second)) == 0:\n",
    "\n",
    "                # adding frame to list\n",
    "                frame_list.append(frame)\n",
    "#                 print(current_frame,file_name,frame)\n",
    "                # writing selected frames to images_path\n",
    "                cv2.imwrite(file_name, frame)\n",
    "    \n",
    "    \n",
    "            # increasing counter so that it will\n",
    "            # show how many frames are created\n",
    "            current_frame += 1\n",
    "        else:\n",
    "            break\n",
    "    \n",
    "    # Release all space and windows once done\n",
    "    cam.release()\n",
    "#     cv2.destroyAllWindows()\n",
    "\n",
    "    return frame_list"
   ]
  },
  {
   "cell_type": "markdown",
   "id": "a3a66f27",
   "metadata": {
    "papermill": {
     "duration": 0.007731,
     "end_time": "2022-08-10T08:42:56.071974",
     "exception": false,
     "start_time": "2022-08-10T08:42:56.064243",
     "status": "completed"
    },
    "tags": []
   },
   "source": [
    "# collecting least frames,required for finding unique slides"
   ]
  },
  {
   "cell_type": "code",
   "execution_count": 8,
   "id": "714136bf",
   "metadata": {
    "execution": {
     "iopub.execute_input": "2022-08-10T08:42:56.089829Z",
     "iopub.status.busy": "2022-08-10T08:42:56.089166Z",
     "iopub.status.idle": "2022-08-10T08:43:17.263038Z",
     "shell.execute_reply": "2022-08-10T08:43:17.262018Z"
    },
    "papermill": {
     "duration": 21.184719,
     "end_time": "2022-08-10T08:43:17.265185",
     "exception": false,
     "start_time": "2022-08-10T08:42:56.080466",
     "status": "completed"
    },
    "tags": []
   },
   "outputs": [
    {
     "name": "stdout",
     "output_type": "stream",
     "text": [
      "CPU times: user 30.8 s, sys: 933 ms, total: 31.7 s\n",
      "Wall time: 21.2 s\n"
     ]
    },
    {
     "data": {
      "text/plain": [
       "320"
      ]
     },
     "execution_count": 8,
     "metadata": {},
     "output_type": "execute_result"
    }
   ],
   "source": [
    "%%time\n",
    "\n",
    "frames = video_to_images(filename, frames_per_second=hp.frames_per_second)\n",
    "len(frames)"
   ]
  },
  {
   "cell_type": "markdown",
   "id": "afecb69f",
   "metadata": {
    "papermill": {
     "duration": 0.007969,
     "end_time": "2022-08-10T08:43:17.281614",
     "exception": false,
     "start_time": "2022-08-10T08:43:17.273645",
     "status": "completed"
    },
    "tags": []
   },
   "source": [
    "# Converting saved images directory into zip directory so that we can remove the folder later"
   ]
  },
  {
   "cell_type": "code",
   "execution_count": 9,
   "id": "2b846894",
   "metadata": {
    "execution": {
     "iopub.execute_input": "2022-08-10T08:43:17.299706Z",
     "iopub.status.busy": "2022-08-10T08:43:17.298780Z",
     "iopub.status.idle": "2022-08-10T08:43:19.062069Z",
     "shell.execute_reply": "2022-08-10T08:43:19.061040Z"
    },
    "papermill": {
     "duration": 1.774811,
     "end_time": "2022-08-10T08:43:19.064586",
     "exception": false,
     "start_time": "2022-08-10T08:43:17.289775",
     "status": "completed"
    },
    "tags": []
   },
   "outputs": [],
   "source": [
    "\n",
    "def zipdir(path, ziph):\n",
    "    # ziph is zipfile handle\n",
    "    for root, dirs, files in os.walk(path):\n",
    "        for file in files:\n",
    "            ziph.write(os.path.join(root, file), \n",
    "                       os.path.relpath(os.path.join(root, file), \n",
    "                                       os.path.join(path, '..')))\n",
    "\n",
    "with zipfile.ZipFile('images.zip', 'w', zipfile.ZIP_DEFLATED) as zipf:\n",
    "    zipdir('./images/', zipf)"
   ]
  },
  {
   "cell_type": "code",
   "execution_count": 10,
   "id": "b524ef61",
   "metadata": {
    "execution": {
     "iopub.execute_input": "2022-08-10T08:43:19.082820Z",
     "iopub.status.busy": "2022-08-10T08:43:19.082509Z",
     "iopub.status.idle": "2022-08-10T08:43:19.092761Z",
     "shell.execute_reply": "2022-08-10T08:43:19.091895Z"
    },
    "papermill": {
     "duration": 0.021466,
     "end_time": "2022-08-10T08:43:19.094790",
     "exception": false,
     "start_time": "2022-08-10T08:43:19.073324",
     "status": "completed"
    },
    "tags": []
   },
   "outputs": [
    {
     "data": {
      "text/plain": [
       "['frame0.jpg',\n",
       " 'frame25.jpg',\n",
       " 'frame50.jpg',\n",
       " 'frame75.jpg',\n",
       " 'frame100.jpg',\n",
       " 'frame125.jpg',\n",
       " 'frame150.jpg',\n",
       " 'frame175.jpg',\n",
       " 'frame200.jpg',\n",
       " 'frame225.jpg',\n",
       " 'frame250.jpg',\n",
       " 'frame275.jpg',\n",
       " 'frame300.jpg',\n",
       " 'frame325.jpg',\n",
       " 'frame350.jpg',\n",
       " 'frame375.jpg',\n",
       " 'frame400.jpg',\n",
       " 'frame425.jpg',\n",
       " 'frame450.jpg',\n",
       " 'frame475.jpg']"
      ]
     },
     "execution_count": 10,
     "metadata": {},
     "output_type": "execute_result"
    }
   ],
   "source": [
    "images = os.listdir('./images')\n",
    "images.sort(key=lambda f: int(''.join(filter(str.isdigit, f))))\n",
    "images[:20]"
   ]
  },
  {
   "cell_type": "markdown",
   "id": "52af7c64",
   "metadata": {
    "papermill": {
     "duration": 0.008023,
     "end_time": "2022-08-10T08:43:19.110976",
     "exception": false,
     "start_time": "2022-08-10T08:43:19.102953",
     "status": "completed"
    },
    "tags": []
   },
   "source": [
    "# structural similarity index measure (SSIM) calculation using GPU"
   ]
  },
  {
   "cell_type": "markdown",
   "id": "59c38b95",
   "metadata": {
    "papermill": {
     "duration": 0.008236,
     "end_time": "2022-08-10T08:43:19.127954",
     "exception": false,
     "start_time": "2022-08-10T08:43:19.119718",
     "status": "completed"
    },
    "tags": []
   },
   "source": [
    "if the consecutive image pair gets ssim score above hp.ssim_threshold then we consider first image from the pair as it's duplicate or say near duplicate then we increment i,j for next comparison to filter redundant samples using high ssim threshold like -> score < hp.ssim_threshold\n",
    "\n",
    "using this approach we are reducing duplicate frames first, the code cell below is fast enough as it computes SSIM on gpu,,,in cpu ssim took longer to finish calculation. this step helps us reduce unwanted samples faster so later dbnet gets less sample to deal with **(it helps reduce overall time to convert videos into readable pdf slides)**"
   ]
  },
  {
   "cell_type": "code",
   "execution_count": 11,
   "id": "54db4624",
   "metadata": {
    "execution": {
     "iopub.execute_input": "2022-08-10T08:43:19.147102Z",
     "iopub.status.busy": "2022-08-10T08:43:19.145498Z",
     "iopub.status.idle": "2022-08-10T08:43:36.928222Z",
     "shell.execute_reply": "2022-08-10T08:43:36.926136Z"
    },
    "papermill": {
     "duration": 17.793934,
     "end_time": "2022-08-10T08:43:36.930425",
     "exception": false,
     "start_time": "2022-08-10T08:43:19.136491",
     "status": "completed"
    },
    "tags": []
   },
   "outputs": [
    {
     "name": "stdout",
     "output_type": "stream",
     "text": [
      "CPU times: user 15.6 s, sys: 1.22 s, total: 16.8 s\n",
      "Wall time: 17.8 s\n"
     ]
    }
   ],
   "source": [
    "%%time\n",
    "\n",
    "transform = transforms.ToTensor()\n",
    "ssim = SSIM().cuda()\n",
    "images_path = f'./filtered' \n",
    "if not os.path.exists(images_path):\n",
    "    os.makedirs(images_path)\n",
    "    \n",
    "def calculate_ssim(image,image1,write_img = True):\n",
    "    x = transform(image).unsqueeze(0).cuda() # .cuda() for GPU\n",
    "    y = transform(image1).unsqueeze(0).cuda()\n",
    "\n",
    "    \n",
    "    score = ssim(x, y).data.tolist()\n",
    "\n",
    "    if(score > hp.ssim_threshold):\n",
    "        return score\n",
    "    if(write_img):\n",
    "        cv2.imwrite(f'./{images_path}/{images[idx]}',image)\n",
    "    return score\n",
    "        \n",
    "for idx in range(len(images) - 1):\n",
    "    image = cv2.imread(f'./images/{images[idx]}')\n",
    "    image1 = cv2.imread(f'./images/{images[idx+1]}')\n",
    "    score = calculate_ssim(image,image1)"
   ]
  },
  {
   "cell_type": "code",
   "execution_count": 12,
   "id": "338c4285",
   "metadata": {
    "execution": {
     "iopub.execute_input": "2022-08-10T08:43:36.949337Z",
     "iopub.status.busy": "2022-08-10T08:43:36.948487Z",
     "iopub.status.idle": "2022-08-10T08:43:37.213739Z",
     "shell.execute_reply": "2022-08-10T08:43:37.212802Z"
    },
    "papermill": {
     "duration": 0.276583,
     "end_time": "2022-08-10T08:43:37.215907",
     "exception": false,
     "start_time": "2022-08-10T08:43:36.939324",
     "status": "completed"
    },
    "tags": []
   },
   "outputs": [
    {
     "name": "stdout",
     "output_type": "stream",
     "text": [
      "['frame25.jpg', 'frame100.jpg', 'frame125.jpg', 'frame250.jpg', 'frame275.jpg', 'frame300.jpg', 'frame325.jpg', 'frame350.jpg', 'frame375.jpg', 'frame400.jpg'] 64\n"
     ]
    }
   ],
   "source": [
    "images = os.listdir('./filtered')\n",
    "images.sort(key=lambda f: int(''.join(filter(str.isdigit, f))))\n",
    "print(images[:10],len(images))\n",
    "\n",
    "with zipfile.ZipFile('filtered.zip', 'w', zipfile.ZIP_DEFLATED) as zipf:\n",
    "    zipdir('./filtered/', zipf)\n",
    "\n",
    "    "
   ]
  },
  {
   "cell_type": "markdown",
   "id": "66498d9c",
   "metadata": {
    "papermill": {
     "duration": 0.008388,
     "end_time": "2022-08-10T08:43:37.233449",
     "exception": false,
     "start_time": "2022-08-10T08:43:37.225061",
     "status": "completed"
    },
    "tags": []
   },
   "source": [
    "# frame pair visualization"
   ]
  },
  {
   "cell_type": "code",
   "execution_count": 13,
   "id": "c7ed4f6d",
   "metadata": {
    "execution": {
     "iopub.execute_input": "2022-08-10T08:43:37.251459Z",
     "iopub.status.busy": "2022-08-10T08:43:37.251120Z",
     "iopub.status.idle": "2022-08-10T08:44:33.242523Z",
     "shell.execute_reply": "2022-08-10T08:44:33.240795Z"
    },
    "papermill": {
     "duration": 56.002935,
     "end_time": "2022-08-10T08:44:33.244836",
     "exception": false,
     "start_time": "2022-08-10T08:43:37.241901",
     "status": "completed"
    },
    "tags": []
   },
   "outputs": [
    {
     "name": "stdout",
     "output_type": "stream",
     "text": [
      "download https://paddleocr.bj.bcebos.com/PP-OCRv3/multilingual/Multilingual_PP-OCRv3_det_infer.tar to /root/.paddleocr/whl/det/ml/Multilingual_PP-OCRv3_det_infer/Multilingual_PP-OCRv3_det_infer.tar\n"
     ]
    },
    {
     "name": "stderr",
     "output_type": "stream",
     "text": [
      "100%|██████████| 3.85M/3.85M [00:11<00:00, 341kiB/s] \n"
     ]
    },
    {
     "name": "stdout",
     "output_type": "stream",
     "text": [
      "download https://paddleocr.bj.bcebos.com/PP-OCRv3/multilingual/arabic_PP-OCRv3_rec_infer.tar to /root/.paddleocr/whl/rec/arabic/arabic_PP-OCRv3_rec_infer/arabic_PP-OCRv3_rec_infer.tar\n"
     ]
    },
    {
     "name": "stderr",
     "output_type": "stream",
     "text": [
      "100%|██████████| 9.98M/9.98M [00:22<00:00, 453kiB/s] \n"
     ]
    },
    {
     "name": "stdout",
     "output_type": "stream",
     "text": [
      "download https://paddleocr.bj.bcebos.com/dygraph_v2.0/ch/ch_ppocr_mobile_v2.0_cls_infer.tar to /root/.paddleocr/whl/cls/ch_ppocr_mobile_v2.0_cls_infer/ch_ppocr_mobile_v2.0_cls_infer.tar\n"
     ]
    },
    {
     "name": "stderr",
     "output_type": "stream",
     "text": [
      "100%|██████████| 1.45M/1.45M [00:08<00:00, 168kiB/s]"
     ]
    },
    {
     "name": "stdout",
     "output_type": "stream",
     "text": [
      "[2022/08/10 08:44:22] ppocr DEBUG: Namespace(alpha=1.0, benchmark=False, beta=1.0, cls_batch_num=6, cls_image_shape='3, 48, 192', cls_model_dir='/root/.paddleocr/whl/cls/ch_ppocr_mobile_v2.0_cls_infer', cls_thresh=0.9, cpu_threads=10, crop_res_save_dir='./output', det=True, det_algorithm='DB', det_db_box_thresh=0.6, det_db_score_mode='fast', det_db_thresh=0.3, det_db_unclip_ratio=1.5, det_east_cover_thresh=0.1, det_east_nms_thresh=0.2, det_east_score_thresh=0.8, det_fce_box_type='poly', det_limit_side_len=960, det_limit_type='max', det_model_dir='/root/.paddleocr/whl/det/ml/Multilingual_PP-OCRv3_det_infer', det_pse_box_thresh=0.85, det_pse_box_type='quad', det_pse_min_area=16, det_pse_scale=1, det_pse_thresh=0, det_sast_nms_thresh=0.2, det_sast_polygon=False, det_sast_score_thresh=0.5, draw_img_save_dir='./inference_results', drop_score=0.5, e2e_algorithm='PGNet', e2e_char_dict_path='./ppocr/utils/ic15_dict.txt', e2e_limit_side_len=768, e2e_limit_type='max', e2e_model_dir=None, e2e_pgnet_mode='fast', e2e_pgnet_score_thresh=0.5, e2e_pgnet_valid_set='totaltext', enable_mkldnn=False, fourier_degree=5, gpu_mem=500, help='==SUPPRESS==', image_dir=None, ir_optim=True, label_list=['0', '180'], lang='ar', layout=True, layout_label_map=None, layout_path_model='lp://PubLayNet/ppyolov2_r50vd_dcn_365e_publaynet/config', max_batch_size=10, max_text_length=25, min_subgraph_size=15, mode='structure', ocr=True, ocr_version='PP-OCRv3', output='./output', precision='fp32', process_id=0, rec=True, rec_algorithm='SVTR_LCNet', rec_batch_num=6, rec_char_dict_path='/opt/conda/lib/python3.7/site-packages/paddleocr/ppocr/utils/dict/arabic_dict.txt', rec_image_shape='3, 48, 320', rec_model_dir='/root/.paddleocr/whl/rec/arabic/arabic_PP-OCRv3_rec_infer', save_crop_res=False, save_log_path='./log_output/', scales=[8, 16, 32], show_log=True, structure_version='PP-STRUCTURE', table=True, table_char_dict_path=None, table_max_len=488, table_model_dir=None, total_process_num=1, type='ocr', use_angle_cls=True, use_dilation=False, use_gpu=True, use_mp=False, use_onnx=False, use_pdserving=False, use_space_char=True, use_tensorrt=False, vis_font_path='./doc/fonts/simfang.ttf', warmup=False)\n"
     ]
    },
    {
     "name": "stderr",
     "output_type": "stream",
     "text": [
      "\n"
     ]
    },
    {
     "data": {
      "image/png": "[encoded data removed]",
      "text/plain": [
       "<Figure size 1440x1440 with 2 Axes>"
      ]
     },
     "metadata": {
      "needs_background": "light"
     },
     "output_type": "display_data"
    },
    {
     "name": "stdout",
     "output_type": "stream",
     "text": [
      "Image similarity 0.9370919646530979\n"
     ]
    }
   ],
   "source": [
    "\n",
    "\n",
    "#https://gist.github.com/mstankie/71e49f628beac320953e0460b8ee78c2\n",
    "# 2. Declare PaddleOCR class\n",
    "ocr = PaddleOCR(use_angle_cls=True, lang='ar',use_gpu = True)  \n",
    "\n",
    "def viz_img_pair(images,i,j):\n",
    "    image = cv2.imread(f'./filtered/{images[i]}')\n",
    "    image1 = cv2.imread(f'./filtered/{images[j]}')\n",
    "    \n",
    "    result = ocr.ocr(image, rec=False)\n",
    "    boxes = [line[0] for line in result]\n",
    "    for box in result:\n",
    "        box = np.reshape(np.array(box), [-1,1,2]).astype(np.int64)\n",
    "        image = cv2.polylines(np.array(image), [box], True, (255,0,0), 2)\n",
    "\n",
    "    f = plt.figure(figsize=(20,20))\n",
    "    f.add_subplot(1,2, 1)\n",
    "    plt.title(f'{images[i]}', fontdict={'fontsize':20})\n",
    "    plt.imshow(image)\n",
    "    \n",
    "    result = ocr.ocr(image1, rec=False)\n",
    "    boxes = [line[0] for line in result]\n",
    "    for box in result:\n",
    "        box = np.reshape(np.array(box), [-1,1,2]).astype(np.int64)\n",
    "        image1 = cv2.polylines(np.array(image1), [box], True, (255,0,0), 2)\n",
    "\n",
    "    f.add_subplot(1,2, 2)\n",
    "    plt.title(f'{images[i+1]}', fontdict={'fontsize':20})\n",
    "    plt.imshow(image1)\n",
    "    plt.show(block=True)\n",
    "\n",
    "    # Convert images to grayscale\n",
    "    before_gray = cv2.cvtColor(image, cv2.COLOR_BGR2GRAY)\n",
    "    after_gray = cv2.cvtColor(image1, cv2.COLOR_BGR2GRAY)\n",
    "\n",
    "    # Compute SSIM between two images\n",
    "    (score, diff) = structural_similarity(before_gray, after_gray, full=True)\n",
    "    print(\"Image similarity\", score)\n",
    "    \n",
    "if(hp.visualize_img_pairs):\n",
    "    viz_img_pair(images=images,i=4,j=5)"
   ]
  },
  {
   "cell_type": "markdown",
   "id": "ea9aff13",
   "metadata": {
    "papermill": {
     "duration": 0.021865,
     "end_time": "2022-08-10T08:44:33.291211",
     "exception": false,
     "start_time": "2022-08-10T08:44:33.269346",
     "status": "completed"
    },
    "tags": []
   },
   "source": [
    "# Sort bboxes detected by  db_resnet50 text detection algorithm of paddleocr"
   ]
  },
  {
   "cell_type": "code",
   "execution_count": 14,
   "id": "2a983a34",
   "metadata": {
    "execution": {
     "iopub.execute_input": "2022-08-10T08:44:33.338048Z",
     "iopub.status.busy": "2022-08-10T08:44:33.337024Z",
     "iopub.status.idle": "2022-08-10T08:44:33.345201Z",
     "shell.execute_reply": "2022-08-10T08:44:33.344328Z"
    },
    "papermill": {
     "duration": 0.033578,
     "end_time": "2022-08-10T08:44:33.347420",
     "exception": false,
     "start_time": "2022-08-10T08:44:33.313842",
     "status": "completed"
    },
    "tags": []
   },
   "outputs": [],
   "source": [
    "# https://github.com/vigneshgig/sorting_algorthim_for_bounding_box_from_left_to_right_and_top_to_bottom\n",
    "\n",
    "def sorted_boxes(dt_boxes):\n",
    "    \"\"\"\n",
    "    Sort text boxes in order from top to bottom, left to right\n",
    "    args:\n",
    "        dt_boxes(array):detected text boxes with shape [4, 2]\n",
    "    return:\n",
    "        sorted boxes(array) with shape [4, 2]\n",
    "    \"\"\"\n",
    "    num_boxes = dt_boxes.shape[0]\n",
    "    sorted_boxes = sorted(dt_boxes, key=lambda x: (x[0][1], x[0][0]))\n",
    "    _boxes = list(sorted_boxes)\n",
    "\n",
    "    for i in range(num_boxes - 1):\n",
    "        if abs(_boxes[i + 1][0][1] - _boxes[i][0][1]) < 100 and (_boxes[i + 1][0][0] < _boxes[i][0][0]):\n",
    "            tmp = _boxes[i]\n",
    "            _boxes[i] = _boxes[i + 1]\n",
    "            _boxes[i + 1] = tmp\n",
    "    return _boxes\n"
   ]
  },
  {
   "cell_type": "markdown",
   "id": "62da5fe1",
   "metadata": {
    "papermill": {
     "duration": 0.021896,
     "end_time": "2022-08-10T08:44:33.391308",
     "exception": false,
     "start_time": "2022-08-10T08:44:33.369412",
     "status": "completed"
    },
    "tags": []
   },
   "source": [
    "# Detect all unique and informative images and save them in folder name unique"
   ]
  },
  {
   "cell_type": "markdown",
   "id": "ed945c46",
   "metadata": {
    "papermill": {
     "duration": 0.021561,
     "end_time": "2022-08-10T08:44:33.435661",
     "exception": false,
     "start_time": "2022-08-10T08:44:33.414100",
     "status": "completed"
    },
    "tags": []
   },
   "source": [
    "on consecutive frame pair,we first detect and sort text bboxes and apply iou on top of them, we compute and count_matched_bboxes iou with high threshold and check if image pair has got IOU count greater or equal to the previous pair or not,if yes, we save and update the i'th image/frame otherwise we move on to next i,j image pair comparison.\n",
    "\n",
    "this way we try to eliminate more redundant frames"
   ]
  },
  {
   "cell_type": "code",
   "execution_count": 15,
   "id": "7a5a6805",
   "metadata": {
    "execution": {
     "iopub.execute_input": "2022-08-10T08:44:33.482133Z",
     "iopub.status.busy": "2022-08-10T08:44:33.481760Z",
     "iopub.status.idle": "2022-08-10T08:44:33.496839Z",
     "shell.execute_reply": "2022-08-10T08:44:33.496049Z"
    },
    "papermill": {
     "duration": 0.040392,
     "end_time": "2022-08-10T08:44:33.498871",
     "exception": false,
     "start_time": "2022-08-10T08:44:33.458479",
     "status": "completed"
    },
    "tags": []
   },
   "outputs": [],
   "source": [
    "images_path = f'./unique' \n",
    "if not os.path.exists(images_path):\n",
    "    os.makedirs(images_path)\n",
    "    \n",
    "\n",
    "def calculate_iou(box_1, box_2):\n",
    "    poly_1 = Polygon(box_1)\n",
    "    poly_2 = Polygon(box_2)\n",
    "    iou = poly_1.intersection(poly_2).area / poly_1.union(poly_2).area\n",
    "    return iou\n",
    "\n",
    "def count_matched_bboxes(img,img1,detector):\n",
    "    \n",
    "    dt_boxes,_= detector.text_detector(img) \n",
    "    dt_boxes=sorted_boxes(dt_boxes)\n",
    "    \n",
    "    dt_boxes1,_= detector.text_detector(img1) \n",
    "    dt_boxes1=sorted_boxes(dt_boxes1)\n",
    "\n",
    "    minimum = min(len(dt_boxes), len(dt_boxes1))\n",
    "    \n",
    "    if(len(dt_boxes)<1):\n",
    "        # we don't care if there is no text\n",
    "        return 0,minimum\n",
    "    \n",
    "    if(len(dt_boxes1)<1):\n",
    "        # we don't care if there is no text\n",
    "        return 0,minimum\n",
    "    #         diff = abs(len(dt_boxes)-len(dt_boxes1))\n",
    "\n",
    "    count = 0\n",
    "    if(len(dt_boxes)>len(dt_boxes1)):\n",
    "        for box_n in range(len(dt_boxes1)):\n",
    "            for box_num in range(len(dt_boxes)):\n",
    "                iou = calculate_iou(dt_boxes[box_num], dt_boxes1[box_n])\n",
    "                if(iou > hp.iou_threshold):\n",
    "                    count+=1\n",
    "    else:\n",
    "        for box_num in range(len(dt_boxes)):\n",
    "            for box_n in range(len(dt_boxes1)):\n",
    "                iou = calculate_iou(dt_boxes[box_num], dt_boxes1[box_n])\n",
    "                if(iou > hp.iou_threshold):\n",
    "                    count+=1\n",
    "    \n",
    "    return count,minimum\n",
    "\n",
    "\n",
    "\n",
    "def save_unique_images(detector,folder):\n",
    "    '''\n",
    "    detect all unique and informative images and save them\n",
    "    images using db_resnet50 text detection algorithm of paddleocr\n",
    "    args :\n",
    "        detector : text detection algorithm (default db_resnet50 of paddle)\n",
    "        folder   : folder loc containing all images\n",
    "    '''\n",
    "    \n",
    "    files = os.listdir(folder)\n",
    "    files.sort(key=lambda f: int(''.join(filter(str.isdigit, f))))\n",
    "\n",
    "    for i in range(len(files)-1):\n",
    "        prev = 1\n",
    "        for j in range(i+1, len(files)):\n",
    "            img_path=f\"{folder}/{files[i]}\"\n",
    "            img=cv2.imread(img_path)\n",
    "\n",
    "            img_path=f\"{folder}/{files[j]}\"\n",
    "            img1=cv2.imread(img_path)\n",
    "\n",
    "            try:\n",
    "                img=cv2.cvtColor(img,cv2.COLOR_BGR2RGB)\n",
    "                img1=cv2.cvtColor(img1,cv2.COLOR_BGR2RGB)\n",
    "            except:\n",
    "                print(\"failed during COLOR_BGR2RGB image...\")\n",
    "           \n",
    "            count,_ = count_matched_bboxes(img,img1,detector)\n",
    "            if(count>= prev):\n",
    "                prev = count\n",
    "                cv2.imwrite(f'./{images_path}/{files[i]}',img1)\n",
    "            else:    \n",
    "                break\n",
    "\n",
    "#             maximum = max(len(dt_boxes), len(dt_boxes1))\n",
    "#             if(count>= maximum * 0.6):\n",
    "#                 cv2.imwrite(f'./{images_path}/{files[j]}',img1)\n",
    "#             break\n",
    "\n",
    "        \n",
    "    "
   ]
  },
  {
   "cell_type": "markdown",
   "id": "b1f2045f",
   "metadata": {
    "papermill": {
     "duration": 0.021712,
     "end_time": "2022-08-10T08:44:33.542492",
     "exception": false,
     "start_time": "2022-08-10T08:44:33.520780",
     "status": "completed"
    },
    "tags": []
   },
   "source": [
    "# Find and reduce redundant frames"
   ]
  },
  {
   "cell_type": "code",
   "execution_count": 16,
   "id": "55731fd4",
   "metadata": {
    "execution": {
     "iopub.execute_input": "2022-08-10T08:44:33.588773Z",
     "iopub.status.busy": "2022-08-10T08:44:33.587823Z",
     "iopub.status.idle": "2022-08-10T08:44:58.823813Z",
     "shell.execute_reply": "2022-08-10T08:44:58.822297Z"
    },
    "papermill": {
     "duration": 25.262221,
     "end_time": "2022-08-10T08:44:58.826719",
     "exception": false,
     "start_time": "2022-08-10T08:44:33.564498",
     "status": "completed"
    },
    "tags": []
   },
   "outputs": [
    {
     "name": "stdout",
     "output_type": "stream",
     "text": [
      "CPU times: user 26.3 s, sys: 659 ms, total: 27 s\n",
      "Wall time: 25.2 s\n"
     ]
    }
   ],
   "source": [
    "%%time\n",
    "\n",
    "\n",
    "folder = './filtered'\n",
    "\n",
    "save_unique_images(detector = ocr,folder=folder)"
   ]
  },
  {
   "cell_type": "code",
   "execution_count": 17,
   "id": "f00609d3",
   "metadata": {
    "execution": {
     "iopub.execute_input": "2022-08-10T08:44:58.872686Z",
     "iopub.status.busy": "2022-08-10T08:44:58.872381Z",
     "iopub.status.idle": "2022-08-10T08:44:58.882119Z",
     "shell.execute_reply": "2022-08-10T08:44:58.880954Z"
    },
    "papermill": {
     "duration": 0.035326,
     "end_time": "2022-08-10T08:44:58.884931",
     "exception": false,
     "start_time": "2022-08-10T08:44:58.849605",
     "status": "completed"
    },
    "tags": []
   },
   "outputs": [
    {
     "name": "stdout",
     "output_type": "stream",
     "text": [
      "49\n"
     ]
    },
    {
     "data": {
      "text/plain": [
       "['frame6525.jpg',\n",
       " 'frame1300.jpg',\n",
       " 'frame4725.jpg',\n",
       " 'frame2600.jpg',\n",
       " 'frame2400.jpg',\n",
       " 'frame3825.jpg',\n",
       " 'frame7900.jpg',\n",
       " 'frame250.jpg',\n",
       " 'frame1975.jpg',\n",
       " 'frame5800.jpg',\n",
       " 'frame3425.jpg',\n",
       " 'frame4750.jpg',\n",
       " 'frame7075.jpg',\n",
       " 'frame7150.jpg',\n",
       " 'frame1825.jpg',\n",
       " 'frame7100.jpg',\n",
       " 'frame275.jpg',\n",
       " 'frame7925.jpg',\n",
       " 'frame1475.jpg',\n",
       " 'frame1675.jpg',\n",
       " 'frame2375.jpg',\n",
       " 'frame3750.jpg',\n",
       " 'frame1850.jpg',\n",
       " 'frame5000.jpg',\n",
       " 'frame1700.jpg',\n",
       " 'frame7425.jpg',\n",
       " 'frame6125.jpg',\n",
       " 'frame2425.jpg',\n",
       " 'frame7800.jpg',\n",
       " 'frame7650.jpg',\n",
       " 'frame6050.jpg',\n",
       " 'frame1075.jpg',\n",
       " 'frame7825.jpg',\n",
       " 'frame2800.jpg',\n",
       " 'frame3400.jpg',\n",
       " 'frame7875.jpg',\n",
       " 'frame1800.jpg',\n",
       " 'frame7675.jpg',\n",
       " 'frame7725.jpg',\n",
       " 'frame300.jpg',\n",
       " 'frame325.jpg',\n",
       " 'frame5525.jpg',\n",
       " 'frame7750.jpg',\n",
       " 'frame4100.jpg',\n",
       " 'frame3025.jpg',\n",
       " 'frame7850.jpg',\n",
       " 'frame5500.jpg',\n",
       " 'frame6025.jpg',\n",
       " 'frame7700.jpg']"
      ]
     },
     "execution_count": 17,
     "metadata": {},
     "output_type": "execute_result"
    }
   ],
   "source": [
    "print(len(os.listdir('./unique')))\n",
    "os.listdir('./unique')"
   ]
  },
  {
   "cell_type": "markdown",
   "id": "028e2299",
   "metadata": {
    "papermill": {
     "duration": 0.022189,
     "end_time": "2022-08-10T08:44:58.929371",
     "exception": false,
     "start_time": "2022-08-10T08:44:58.907182",
     "status": "completed"
    },
    "tags": []
   },
   "source": [
    "# save unique Frames to pdf"
   ]
  },
  {
   "cell_type": "code",
   "execution_count": 18,
   "id": "74c96325",
   "metadata": {
    "execution": {
     "iopub.execute_input": "2022-08-10T08:44:58.974762Z",
     "iopub.status.busy": "2022-08-10T08:44:58.974489Z",
     "iopub.status.idle": "2022-08-10T08:44:59.036937Z",
     "shell.execute_reply": "2022-08-10T08:44:59.035745Z"
    },
    "papermill": {
     "duration": 0.088147,
     "end_time": "2022-08-10T08:44:59.039701",
     "exception": false,
     "start_time": "2022-08-10T08:44:58.951554",
     "status": "completed"
    },
    "tags": []
   },
   "outputs": [
    {
     "name": "stdout",
     "output_type": "stream",
     "text": [
      "output_folder_screenshot_path ./unique\n",
      "output_pdf_path ./w.o.f_Sesamoid bone. Prof. Dr. Md. Ashfaqur Rahman.pdf\n",
      "converting images to pdf..\n",
      "Pdf Created!\n",
      "pdf saved at ./w.o.f_Sesamoid bone. Prof. Dr. Md. Ashfaqur Rahman.pdf\n"
     ]
    }
   ],
   "source": [
    "\n",
    "def unique_frames_to_pdf(output_folder_screenshot_path,without_final_filter = False):\n",
    "    if(without_final_filter):\n",
    "        output_pdf_path = f'./w.o.f_{hp.title}.pdf'\n",
    "    else:\n",
    "        output_pdf_path = f'./{hp.title}.pdf'\n",
    "    print('output_folder_screenshot_path', output_folder_screenshot_path)\n",
    "    print('output_pdf_path', output_pdf_path)\n",
    "    print('converting images to pdf..')\n",
    "    images = os.listdir(output_folder_screenshot_path)\n",
    "    images.sort(key=lambda f: int(''.join(filter(str.isdigit, f))))\n",
    "    for i in range(len(images)):\n",
    "        images[i] = f\"{output_folder_screenshot_path}/{images[i]}\"\n",
    "\n",
    "    with open(output_pdf_path, \"wb\") as f:\n",
    "        f.write(img2pdf.convert(images))\n",
    "    print('Pdf Created!')\n",
    "    print('pdf saved at', output_pdf_path)\n",
    "    \n",
    "if(hp.withoutfinal_filter):\n",
    "    unique_frames_to_pdf('./unique', True)"
   ]
  },
  {
   "cell_type": "markdown",
   "id": "9af30f91",
   "metadata": {
    "papermill": {
     "duration": 0.022903,
     "end_time": "2022-08-10T08:44:59.085338",
     "exception": false,
     "start_time": "2022-08-10T08:44:59.062435",
     "status": "completed"
    },
    "tags": []
   },
   "source": [
    "# final filtering"
   ]
  },
  {
   "cell_type": "markdown",
   "id": "ca9fcea0",
   "metadata": {
    "papermill": {
     "duration": 0.022163,
     "end_time": "2022-08-10T08:44:59.129693",
     "exception": false,
     "start_time": "2022-08-10T08:44:59.107530",
     "status": "completed"
    },
    "tags": []
   },
   "source": [
    "at this point,it's possible that there still can exist few more redundant samples,they don't always look like redundant because of complex animation or other stuffs but according to their other key features like \"mid to near high bbox overlap coverage\", they are redundant,we try to do one last filtering to detect and eliminate those redundant samples\n",
    "\n",
    "\n",
    "again,\n",
    "with high threshold we check the ssim score of current image pair and check if they are similar or not,if yes,we delete first one of them,if no then  we do next step validation,we pass the frame pair to dbresnet50 and count the matched bboxes of these consecutive frames. if count>= minimum * hp.conf_thr  that means the we have high bbox detection overlaps which indicates that slides are most likely to contain similar informations,hence we eliminate the first one from the consecutive pair and use the 2nd one for next i,j comparison before making decision that \"it's unique\"."
   ]
  },
  {
   "cell_type": "code",
   "execution_count": 19,
   "id": "6edb4887",
   "metadata": {
    "execution": {
     "iopub.execute_input": "2022-08-10T08:44:59.178048Z",
     "iopub.status.busy": "2022-08-10T08:44:59.177273Z",
     "iopub.status.idle": "2022-08-10T08:45:09.549149Z",
     "shell.execute_reply": "2022-08-10T08:45:09.547858Z"
    },
    "papermill": {
     "duration": 10.400421,
     "end_time": "2022-08-10T08:45:09.552407",
     "exception": false,
     "start_time": "2022-08-10T08:44:59.151986",
     "status": "completed"
    },
    "tags": []
   },
   "outputs": [
    {
     "name": "stdout",
     "output_type": "stream",
     "text": [
      "30\n",
      "CPU times: user 10.8 s, sys: 201 ms, total: 11 s\n",
      "Wall time: 10.4 s\n"
     ]
    }
   ],
   "source": [
    "%%time\n",
    "\n",
    "images = os.listdir('./unique')\n",
    "images.sort(key=lambda f: int(''.join(filter(str.isdigit, f))))\n",
    "\n",
    "for idx in range(len(images) - 1):\n",
    "    \n",
    "    image = cv2.imread(f'./unique/{images[idx]}')\n",
    "    image1 = cv2.imread(f'./unique/{images[idx+1]}')\n",
    "    if(hp.is_ssim):\n",
    "        score = calculate_ssim(image,image1,write_img = False)\n",
    "        if(score>hp.ssim_threshold):\n",
    "            os.remove(f'./unique/{images[idx]}')\n",
    "            continue\n",
    "\n",
    "    try:\n",
    "        img=cv2.cvtColor(image,cv2.COLOR_BGR2RGB)\n",
    "        img1=cv2.cvtColor(image1,cv2.COLOR_BGR2RGB)\n",
    "    except:\n",
    "        print(\"failed during COLOR_BGR2RGB image...\")\n",
    "\n",
    "    count,minimum = count_matched_bboxes(img,img1,ocr)\n",
    "\n",
    "    if(count>= minimum * hp.conf_thr):\n",
    "        os.remove(f'./unique/{images[idx]}')\n",
    "\n",
    "print(len(os.listdir('./unique')))"
   ]
  },
  {
   "cell_type": "markdown",
   "id": "2abd1414",
   "metadata": {
    "papermill": {
     "duration": 0.022095,
     "end_time": "2022-08-10T08:45:09.598605",
     "exception": false,
     "start_time": "2022-08-10T08:45:09.576510",
     "status": "completed"
    },
    "tags": []
   },
   "source": [
    "# convert final filtered unique frames to pdf"
   ]
  },
  {
   "cell_type": "code",
   "execution_count": 20,
   "id": "c2e91349",
   "metadata": {
    "execution": {
     "iopub.execute_input": "2022-08-10T08:45:09.644945Z",
     "iopub.status.busy": "2022-08-10T08:45:09.644641Z",
     "iopub.status.idle": "2022-08-10T08:45:09.679385Z",
     "shell.execute_reply": "2022-08-10T08:45:09.677903Z"
    },
    "papermill": {
     "duration": 0.060496,
     "end_time": "2022-08-10T08:45:09.681640",
     "exception": false,
     "start_time": "2022-08-10T08:45:09.621144",
     "status": "completed"
    },
    "tags": []
   },
   "outputs": [
    {
     "name": "stdout",
     "output_type": "stream",
     "text": [
      "output_folder_screenshot_path ./unique\n",
      "output_pdf_path ./Sesamoid bone. Prof. Dr. Md. Ashfaqur Rahman.pdf\n",
      "converting images to pdf..\n",
      "Pdf Created!\n",
      "pdf saved at ./Sesamoid bone. Prof. Dr. Md. Ashfaqur Rahman.pdf\n"
     ]
    }
   ],
   "source": [
    "\n",
    "unique_frames_to_pdf('./unique')"
   ]
  },
  {
   "cell_type": "code",
   "execution_count": 21,
   "id": "8e0a1eb6",
   "metadata": {
    "execution": {
     "iopub.execute_input": "2022-08-10T08:45:09.729045Z",
     "iopub.status.busy": "2022-08-10T08:45:09.727398Z",
     "iopub.status.idle": "2022-08-10T08:45:09.890600Z",
     "shell.execute_reply": "2022-08-10T08:45:09.889728Z"
    },
    "papermill": {
     "duration": 0.188484,
     "end_time": "2022-08-10T08:45:09.892662",
     "exception": false,
     "start_time": "2022-08-10T08:45:09.704178",
     "status": "completed"
    },
    "tags": []
   },
   "outputs": [
    {
     "name": "stdout",
     "output_type": "stream",
     "text": [
      "['frame250.jpg', 'frame275.jpg', 'frame300.jpg', 'frame325.jpg', 'frame1075.jpg'] 30\n"
     ]
    }
   ],
   "source": [
    "\n",
    "print(images[:5],len(os.listdir('./unique')))\n",
    "with zipfile.ZipFile('unique.zip', 'w', zipfile.ZIP_DEFLATED) as zipf:\n",
    "    zipdir('./unique/', zipf)\n"
   ]
  },
  {
   "cell_type": "markdown",
   "id": "881df8ff",
   "metadata": {
    "papermill": {
     "duration": 0.022789,
     "end_time": "2022-08-10T08:45:09.937578",
     "exception": false,
     "start_time": "2022-08-10T08:45:09.914789",
     "status": "completed"
    },
    "tags": []
   },
   "source": [
    "# as we have zipped everything already,we will remove the folders to reduce disk space"
   ]
  },
  {
   "cell_type": "code",
   "execution_count": 22,
   "id": "f9930fe7",
   "metadata": {
    "execution": {
     "iopub.execute_input": "2022-08-10T08:45:09.984372Z",
     "iopub.status.busy": "2022-08-10T08:45:09.984091Z",
     "iopub.status.idle": "2022-08-10T08:45:09.988487Z",
     "shell.execute_reply": "2022-08-10T08:45:09.987534Z"
    },
    "papermill": {
     "duration": 0.029852,
     "end_time": "2022-08-10T08:45:09.990655",
     "exception": false,
     "start_time": "2022-08-10T08:45:09.960803",
     "status": "completed"
    },
    "tags": []
   },
   "outputs": [],
   "source": [
    "if(hp.rmdir):\n",
    "    shutil.rmtree('./images')\n",
    "    shutil.rmtree('./filtered')\n",
    "    shutil.rmtree('./unique')"
   ]
  },
  {
   "cell_type": "code",
   "execution_count": null,
   "id": "6f5b49d3",
   "metadata": {
    "papermill": {
     "duration": 0.022784,
     "end_time": "2022-08-10T08:45:10.035761",
     "exception": false,
     "start_time": "2022-08-10T08:45:10.012977",
     "status": "completed"
    },
    "tags": []
   },
   "outputs": [],
   "source": []
  },
  {
   "cell_type": "code",
   "execution_count": null,
   "id": "13cf44d3",
   "metadata": {
    "papermill": {
     "duration": 0.022062,
     "end_time": "2022-08-10T08:45:10.079945",
     "exception": false,
     "start_time": "2022-08-10T08:45:10.057883",
     "status": "completed"
    },
    "tags": []
   },
   "outputs": [],
   "source": []
  }
 ],
 "metadata": {
  "kernelspec": {
   "display_name": "Python 3",
   "language": "python",
   "name": "python3"
  },
  "language_info": {
   "codemirror_mode": {
    "name": "ipython",
    "version": 3
   },
   "file_extension": ".py",
   "mimetype": "text/x-python",
   "name": "python",
   "nbconvert_exporter": "python",
   "pygments_lexer": "ipython3",
   "version": "3.7.12"
  },
  "papermill": {
   "default_parameters": {},
   "duration": 374.411531,
   "end_time": "2022-08-10T08:45:13.123509",
   "environment_variables": {},
   "exception": null,
   "input_path": "__notebook__.ipynb",
   "output_path": "__notebook__.ipynb",
   "parameters": {},
   "start_time": "2022-08-10T08:38:58.711978",
   "version": "2.3.4"
  }
 },
 "nbformat": 4,
 "nbformat_minor": 5
}
