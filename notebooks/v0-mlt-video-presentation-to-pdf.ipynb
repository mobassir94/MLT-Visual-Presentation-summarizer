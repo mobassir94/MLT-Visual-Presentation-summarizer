{
 "cells": [
  {
   "cell_type": "markdown",
   "id": "f8e97852",
   "metadata": {
    "papermill": {
     "duration": 0.012976,
     "end_time": "2022-08-09T20:01:14.583623",
     "exception": false,
     "start_time": "2022-08-09T20:01:14.570647",
     "status": "completed"
    },
    "tags": []
   },
   "source": [
    "# install necessary packages"
   ]
  },
  {
   "cell_type": "code",
   "execution_count": 1,
   "id": "fe9edb1d",
   "metadata": {
    "_cell_guid": "b1076dfc-b9ad-4769-8c92-a6c4dae69d19",
    "_uuid": "8f2839f25d086af736a60e9eeb907d3b93b6e0e5",
    "execution": {
     "iopub.execute_input": "2022-08-09T20:01:14.607545Z",
     "iopub.status.busy": "2022-08-09T20:01:14.606992Z",
     "iopub.status.idle": "2022-08-09T20:04:21.464234Z",
     "shell.execute_reply": "2022-08-09T20:04:21.462952Z"
    },
    "papermill": {
     "duration": 186.872431,
     "end_time": "2022-08-09T20:04:21.467129",
     "exception": false,
     "start_time": "2022-08-09T20:01:14.594698",
     "status": "completed"
    },
    "tags": []
   },
   "outputs": [],
   "source": [
    "%%capture\n",
    "\n",
    "!pip install pytube\n",
    "!pip install imutils\n",
    "!pip install img2pdf\n",
    "!pip install piqa\n",
    "!pip install img2pdf\n",
    "\n",
    "!pip install paddleocr==2.5.0.3\n",
    "cpu = False\n",
    "if(cpu):\n",
    "    !pip install paddlepaddle==2.3.0\n",
    "else:\n",
    "    #!pip install paddlepaddle-gpu==2.3.0\n",
    "    !python -m pip install paddlepaddle-gpu==2.3.0.post111 -f https://www.paddlepaddle.org.cn/whl/linux/mkl/avx/stable.html\n",
    "        \n",
    "\n",
    "# You can write up to 20GB to the current directory (/kaggle/working/) that gets preserved as output when you create a version using \"Save & Run All\" \n",
    "# You can also write temporary files to /kaggle/temp/, but they won't be saved outside of the current session"
   ]
  },
  {
   "cell_type": "markdown",
   "id": "8fe86c98",
   "metadata": {
    "papermill": {
     "duration": 0.007444,
     "end_time": "2022-08-09T20:04:21.482811",
     "exception": false,
     "start_time": "2022-08-09T20:04:21.475367",
     "status": "completed"
    },
    "tags": []
   },
   "source": [
    "# Cool Imports"
   ]
  },
  {
   "cell_type": "code",
   "execution_count": 2,
   "id": "eb2b5f8c",
   "metadata": {
    "_kg_hide-input": true,
    "execution": {
     "iopub.execute_input": "2022-08-09T20:04:21.499443Z",
     "iopub.status.busy": "2022-08-09T20:04:21.499125Z",
     "iopub.status.idle": "2022-08-09T20:04:27.160760Z",
     "shell.execute_reply": "2022-08-09T20:04:27.159552Z"
    },
    "papermill": {
     "duration": 5.673048,
     "end_time": "2022-08-09T20:04:27.163246",
     "exception": false,
     "start_time": "2022-08-09T20:04:21.490198",
     "status": "completed"
    },
    "tags": []
   },
   "outputs": [],
   "source": [
    "\n",
    "# This Python 3 environment comes with many helpful analytics libraries installed\n",
    "# It is defined by the kaggle/python Docker image: https://github.com/kaggle/docker-python\n",
    "# For example, here's several helpful packages to load\n",
    "\n",
    "import numpy as np # linear algebra\n",
    "import pandas as pd # data processing, CSV file I/O (e.g. pd.read_csv)\n",
    "\n",
    "# Input data files are available in the read-only \"../input/\" directory\n",
    "# For example, running this (by clicking run or pressing Shift+Enter) will list all files under the input directory\n",
    "\n",
    "import time\n",
    "import cv2\n",
    "import imutils\n",
    "import shutil\n",
    "import img2pdf\n",
    "import glob\n",
    "\n",
    "from IPython.display import Video,Image\n",
    "\n",
    "import math\n",
    "import os\n",
    "\n",
    "import pytube\n",
    "from pytube import YouTube \n",
    "\n",
    "import zipfile\n",
    "    \n",
    "\n",
    "import matplotlib.pyplot as plt\n",
    "from skimage.metrics import structural_similarity\n",
    "\n",
    "import torch\n",
    "\n",
    "from shapely.geometry import Polygon\n",
    "\n",
    "from torchvision import transforms\n",
    "from piqa import SSIM\n",
    "\n",
    "\n",
    "# 1. Import paddleocr class from paddleocr\n",
    "from paddleocr import PaddleOCR\n",
    "import numpy as np\n",
    "import cv2\n",
    "import matplotlib.pyplot as plt\n",
    "from PIL import Image\n",
    "from pathlib import Path   \n",
    "from PIL import Image as im\n",
    "import os\n",
    "import copy\n",
    "import img2pdf\n",
    "\n",
    "plt.figure(figsize = (1000,1000))\n",
    "# Add this command to display a notebook drawing using matplotlib.pyplot\n",
    "%matplotlib inline"
   ]
  },
  {
   "cell_type": "code",
   "execution_count": 3,
   "id": "f236b302",
   "metadata": {
    "execution": {
     "iopub.execute_input": "2022-08-09T20:04:27.181246Z",
     "iopub.status.busy": "2022-08-09T20:04:27.180663Z",
     "iopub.status.idle": "2022-08-09T20:04:27.187096Z",
     "shell.execute_reply": "2022-08-09T20:04:27.186043Z"
    },
    "papermill": {
     "duration": 0.019834,
     "end_time": "2022-08-09T20:04:27.190944",
     "exception": false,
     "start_time": "2022-08-09T20:04:27.171110",
     "status": "completed"
    },
    "tags": []
   },
   "outputs": [
    {
     "name": "stdout",
     "output_type": "stream",
     "text": [
      "12.1.0\n",
      "4.4.0\n",
      "0.4.4\n",
      "0.5.4\n",
      "0.4.4\n"
     ]
    }
   ],
   "source": [
    "print(pytube.__version__)\n",
    "print(cv2.__version__)\n",
    "print(img2pdf.__version__)\n",
    "print(imutils.__version__)\n",
    "print(img2pdf.__version__)"
   ]
  },
  {
   "cell_type": "markdown",
   "id": "31ffee5a",
   "metadata": {
    "papermill": {
     "duration": 0.00877,
     "end_time": "2022-08-09T20:04:27.209803",
     "exception": false,
     "start_time": "2022-08-09T20:04:27.201033",
     "status": "completed"
    },
    "tags": []
   },
   "source": [
    "# Motivation\n",
    "\n",
    "the main idea of this approach was to  find unique slides from presentation videos using the dbresnet text detection models detection output result on consecutive image pairs (it gives us information about similar text between image pairs and this feature can indicate the image pair are near duplicate or not.if duplicate then, one of them needs to be removed. but few difficulties were observed :\n",
    "\n",
    "1. slide can contain various animation and in that case positional information are lost\n",
    "2. launching dbnet on many images (frame images) is time consuming\n",
    "\n",
    "to tackle these issues we combine both SSIM and dbresnet50 for efficient 3 step filtering. SSIM first reduces many frames and it is faster,then on reduced frames we apply dbresnet50 and ensemble of SSIM and dbresnet50 for efficient filtering\n",
    "\n",
    "\n",
    "# summary / contributions\n",
    "\n",
    "this notebook demonstrates how to convert multilingual presentation videos into readable pdf file. the solution is developed by combining structural similarity index measure (SSIM) with [Real-Time Scene Text Detection with Differentiable Binarization and Adaptive Scale Fusion](https://arxiv.org/abs/2202.10304) of [paddleocr](https://github.com/PaddlePaddle/PaddleOCR)\n",
    "\n",
    "we compute both ssim and dbnet using gpu,so the code is enough fast.\n",
    "\n",
    "\n",
    "\n",
    "**Rough Pseudo Code :**\n",
    "\n",
    "step 1 -> gather youtube video\n",
    "\n",
    "step 2 -> extract distinct unique frames from videos\n",
    "\n",
    "step 3 -> filter 1 : apply ssim on consecutive frame pairs with high confident on step 2 dataset to reduce redundant frames (use ssim on gpu)\n",
    "\n",
    "step 4 -> filter 2 : select least frames by eliminating duplicate (use high IOU hit count between  image pairs for more filtering on filter 1 dataset)\n",
    "\n",
    "step 5 -> filter 3(high detection overlap count followed by high ssim checking) : on filter 2 data, we again count matched bboxes between image pair(using dbresnet50) and check if we have high bbox detection coverage or not,if yes,then we eliminate first image from image pair as we have detected near duplicate again\n",
    "\n",
    "**NOTE ->  the solution is multilingual,hence it should work on english,bangla,hindi etc presentation videos**"
   ]
  },
  {
   "cell_type": "markdown",
   "id": "874e254e",
   "metadata": {
    "papermill": {
     "duration": 0.008504,
     "end_time": "2022-08-09T20:04:27.228069",
     "exception": false,
     "start_time": "2022-08-09T20:04:27.219565",
     "status": "completed"
    },
    "tags": []
   },
   "source": [
    "# Gather YouTube Videos"
   ]
  },
  {
   "cell_type": "code",
   "execution_count": 4,
   "id": "9dcbaf19",
   "metadata": {
    "execution": {
     "iopub.execute_input": "2022-08-09T20:04:27.246445Z",
     "iopub.status.busy": "2022-08-09T20:04:27.245777Z",
     "iopub.status.idle": "2022-08-09T20:04:30.053858Z",
     "shell.execute_reply": "2022-08-09T20:04:30.052539Z"
    },
    "papermill": {
     "duration": 2.819783,
     "end_time": "2022-08-09T20:04:30.056316",
     "exception": false,
     "start_time": "2022-08-09T20:04:27.236533",
     "status": "completed"
    },
    "tags": []
   },
   "outputs": [
    {
     "name": "stdout",
     "output_type": "stream",
     "text": [
      "\n",
      "\n",
      "title ->\n",
      " General embryology (Part-1) by Prof. Dr. Md. Ashfaqur Rahman\n",
      "\n",
      "\n",
      "views ->\n",
      " 4877\n",
      "\n",
      "\n",
      "\n",
      "\n",
      "length ->\n",
      " 1870\n",
      "\n",
      "\n",
      "author ->\n",
      " We like Anatomy\n",
      "\n",
      "\n",
      "\n",
      "\n",
      "description ->\n",
      " এই ভিডিও লেকচারের বিষয়বস্তু আগেও অন্য ভিডিওতে দেয়া হয়েছিল। কিন্তু তখন ভিডিও কোয়ালিটি খারাপ ছিল, লেংথ বেশী ছিল, স্লাইডে লেখা বেশী ছিল। কিছু ভিডিওতে আবার ব্যাকগ্রাউন্ড মিউজিক থাকায় তা ডিসট্রাকশন করছিল। তাই সেগুলো সংশোধন করে আবার দিচ্ছি।\n",
      "\n",
      "৩১ মিনিটের ছোট ও নতুন ভিডিও, ভালো না লাগলে এমবি ফেরত!!!\n",
      "\n",
      "Link of other parts:\n",
      "Part-01: https://youtu.be/N3CMTEbPTsE\n",
      "Part-02: https://youtu.be/C73RHrjmG9s\n",
      "Part-03: https://youtu.be/RJXKjwtxgnQ\n",
      "Part-04: https://youtu.be/-T35KGA0KfA\n",
      "Part-05: https://youtu.be/K7siyH4uImY\n",
      "Part-06: https://youtu.be/K28GgKDxW7I\n",
      "Part-07: https://youtu.be/cqrt1deYomc\n",
      "Part-08: https://youtu.be/F7MUA00GLp0\n",
      "Part-09: https://youtu.be/pCz-aUtDzUA\n",
      "\n",
      "\n",
      "\n",
      "\n",
      "rating ->\n",
      " None\n",
      "\n",
      "\n",
      "thumbnail_url ->\n",
      " https://i.ytimg.com/vi/N3CMTEbPTsE/sddefault.jpg\n",
      "\n",
      "\n",
      "publish_date ->\n",
      " 2021-01-16 00:00:00\n",
      "\n",
      "\n",
      "streams ->\n",
      " [<Stream: itag=\"17\" mime_type=\"video/3gpp\" res=\"144p\" fps=\"6fps\" vcodec=\"mp4v.20.3\" acodec=\"mp4a.40.2\" progressive=\"True\" type=\"video\">, <Stream: itag=\"18\" mime_type=\"video/mp4\" res=\"360p\" fps=\"25fps\" vcodec=\"avc1.42001E\" acodec=\"mp4a.40.2\" progressive=\"True\" type=\"video\">, <Stream: itag=\"22\" mime_type=\"video/mp4\" res=\"720p\" fps=\"25fps\" vcodec=\"avc1.64001F\" acodec=\"mp4a.40.2\" progressive=\"True\" type=\"video\">, <Stream: itag=\"137\" mime_type=\"video/mp4\" res=\"1080p\" fps=\"25fps\" vcodec=\"avc1.640028\" progressive=\"False\" type=\"video\">, <Stream: itag=\"136\" mime_type=\"video/mp4\" res=\"720p\" fps=\"25fps\" vcodec=\"avc1.4d400a\" progressive=\"False\" type=\"video\">, <Stream: itag=\"135\" mime_type=\"video/mp4\" res=\"480p\" fps=\"25fps\" vcodec=\"avc1.4d4014\" progressive=\"False\" type=\"video\">, <Stream: itag=\"134\" mime_type=\"video/mp4\" res=\"360p\" fps=\"25fps\" vcodec=\"avc1.4d401e\" progressive=\"False\" type=\"video\">, <Stream: itag=\"133\" mime_type=\"video/mp4\" res=\"240p\" fps=\"25fps\" vcodec=\"avc1.4d400c\" progressive=\"False\" type=\"video\">, <Stream: itag=\"160\" mime_type=\"video/mp4\" res=\"144p\" fps=\"25fps\" vcodec=\"avc1.4d400b\" progressive=\"False\" type=\"video\">, <Stream: itag=\"139\" mime_type=\"audio/mp4\" abr=\"48kbps\" acodec=\"mp4a.40.5\" progressive=\"False\" type=\"audio\">, <Stream: itag=\"140\" mime_type=\"audio/mp4\" abr=\"128kbps\" acodec=\"mp4a.40.2\" progressive=\"False\" type=\"audio\">, <Stream: itag=\"251\" mime_type=\"audio/webm\" abr=\"160kbps\" acodec=\"opus\" progressive=\"False\" type=\"audio\">]\n",
      "\n",
      "\n",
      "Progressive streaming ->\n",
      " <Stream: itag=\"22\" mime_type=\"video/mp4\" res=\"720p\" fps=\"25fps\" vcodec=\"avc1.64001F\" acodec=\"mp4a.40.2\" progressive=\"True\" type=\"video\">\n",
      "filename ->  /kaggle/working/General embryology (Part-1) by Prof Dr Md Ashfaqur Rahman.mp4\n"
     ]
    }
   ],
   "source": [
    "#from https://pythonsansar.com/download-youtube-videos-using-python-pytube/\n",
    "\n",
    "yt_video_links = [\n",
    "    'https://www.youtube.com/watch?v=15lVDRDkJGE&t=2s',\n",
    "    'https://www.youtube.com/watch?v=N3CMTEbPTsE&t=372s',\n",
    "    'https://www.youtube.com/watch?v=jjkwyKkqa9M',\n",
    "    'https://www.youtube.com/watch?v=Ybhi6MJL57M',\n",
    "    'https://www.youtube.com/watch?v=CIolRxDxYvc',\n",
    "    'https://www.youtube.com/watch?v=k6lCD0iVExo'\n",
    "]\n",
    "\n",
    "yt = YouTube(yt_video_links[1])\n",
    "\n",
    "print(\"\\n\\ntitle ->\\n\",yt.title)\n",
    "print(\"\\n\\nviews ->\\n\",yt.views)\n",
    "print(\"\\n\\n\\n\\nlength ->\\n\",yt.length)\n",
    "print(\"\\n\\nauthor ->\\n\",yt.author)\n",
    "print(\"\\n\\n\\n\\ndescription ->\\n\",yt.description)\n",
    "print(\"\\n\\n\\n\\nrating ->\\n\",yt.rating)\n",
    "print(\"\\n\\nthumbnail_url ->\\n\",yt.thumbnail_url)\n",
    "print(\"\\n\\npublish_date ->\\n\",yt.publish_date)\n",
    "print(\"\\n\\nstreams ->\\n\",yt.streams)\n",
    "print(\"\\n\\nProgressive streaming ->\\n\",yt.streams.filter(progressive=True).get_highest_resolution())\n",
    "\n",
    "\n",
    "# this method will download the highest resolution that video is available\n",
    "yt_video = yt.streams.get_highest_resolution()\n",
    "filename = yt_video.download()\n",
    "print(\"filename -> \",filename)"
   ]
  },
  {
   "cell_type": "markdown",
   "id": "f7a7da5e",
   "metadata": {
    "papermill": {
     "duration": 0.007745,
     "end_time": "2022-08-09T20:04:30.072432",
     "exception": false,
     "start_time": "2022-08-09T20:04:30.064687",
     "status": "completed"
    },
    "tags": []
   },
   "source": [
    "# Controllable Parameters\n"
   ]
  },
  {
   "cell_type": "code",
   "execution_count": 5,
   "id": "ed6fb904",
   "metadata": {
    "execution": {
     "iopub.execute_input": "2022-08-09T20:04:30.091897Z",
     "iopub.status.busy": "2022-08-09T20:04:30.090271Z",
     "iopub.status.idle": "2022-08-09T20:04:30.099136Z",
     "shell.execute_reply": "2022-08-09T20:04:30.097687Z"
    },
    "papermill": {
     "duration": 0.021034,
     "end_time": "2022-08-09T20:04:30.101843",
     "exception": false,
     "start_time": "2022-08-09T20:04:30.080809",
     "status": "completed"
    },
    "tags": []
   },
   "outputs": [
    {
     "name": "stdout",
     "output_type": "stream",
     "text": [
      "0.5\n"
     ]
    }
   ],
   "source": [
    "#choosing dynamic fps based on video length for making computation fast without sacrificing vital informations\n",
    "if(yt.length>=1800):\n",
    "    fps = 0.5\n",
    "elif(yt.length<1800 and yt.length>1200):\n",
    "    fps = 0.75\n",
    "else:\n",
    "    fps = 1.0\n",
    "    \n",
    "class Hparams():\n",
    "    def __init__(self):\n",
    "        self.title = yt.title\n",
    "        self.embed_video = False\n",
    "        self.rmdir = False\n",
    "        self.frames_per_second = fps\n",
    "        self.ssim_threshold = 0.98\n",
    "        self.visualize_img_pairs = True\n",
    "        self.iou_threshold = 0.9\n",
    "        self.min_match_thr = 2\n",
    "        self.conf_thr = 0.8\n",
    "        self.withoutfinal_filter = True\n",
    " \n",
    "    \n",
    "hp = Hparams()\n",
    "print(hp.frames_per_second)"
   ]
  },
  {
   "cell_type": "code",
   "execution_count": 6,
   "id": "e2683cbd",
   "metadata": {
    "execution": {
     "iopub.execute_input": "2022-08-09T20:04:30.120637Z",
     "iopub.status.busy": "2022-08-09T20:04:30.119761Z",
     "iopub.status.idle": "2022-08-09T20:04:30.124671Z",
     "shell.execute_reply": "2022-08-09T20:04:30.123811Z"
    },
    "papermill": {
     "duration": 0.015843,
     "end_time": "2022-08-09T20:04:30.126600",
     "exception": false,
     "start_time": "2022-08-09T20:04:30.110757",
     "status": "completed"
    },
    "tags": []
   },
   "outputs": [],
   "source": [
    "if(hp.embed_video):\n",
    "    Video(filename,embed=True)"
   ]
  },
  {
   "cell_type": "markdown",
   "id": "03a6a63b",
   "metadata": {
    "papermill": {
     "duration": 0.007683,
     "end_time": "2022-08-09T20:04:30.142181",
     "exception": false,
     "start_time": "2022-08-09T20:04:30.134498",
     "status": "completed"
    },
    "tags": []
   },
   "source": [
    "# Extracting-distinct-unique-frames-from-videos"
   ]
  },
  {
   "cell_type": "code",
   "execution_count": 7,
   "id": "859408ed",
   "metadata": {
    "execution": {
     "iopub.execute_input": "2022-08-09T20:04:30.159500Z",
     "iopub.status.busy": "2022-08-09T20:04:30.158735Z",
     "iopub.status.idle": "2022-08-09T20:04:30.166886Z",
     "shell.execute_reply": "2022-08-09T20:04:30.166069Z"
    },
    "papermill": {
     "duration": 0.018881,
     "end_time": "2022-08-09T20:04:30.168860",
     "exception": false,
     "start_time": "2022-08-09T20:04:30.149979",
     "status": "completed"
    },
    "tags": []
   },
   "outputs": [],
   "source": [
    "#https://stackoverflow.com/questions/54045766/python-extracting-distinct-unique-frames-from-videos\n",
    "\n",
    "def video_to_images(video_path, frames_per_second=1):\n",
    "    cam = cv2.VideoCapture(video_path)\n",
    "    frame_list = []\n",
    "    frame_rate = cam.get(cv2.CAP_PROP_FPS) #video frame rate\n",
    "\n",
    "\n",
    "\n",
    "    # frame\n",
    "    current_frame = 0\n",
    "    \n",
    "    # create directory if it does not exist\n",
    "    images_path = f'./images' \n",
    "    if not os.path.exists(images_path):\n",
    "        os.makedirs(images_path)\n",
    "\n",
    "    if frames_per_second > frame_rate or frames_per_second == -1:\n",
    "        frames_per_second = frame_rate\n",
    "    \n",
    "    while(True):\n",
    "        \n",
    "        # reading from frame\n",
    "        ret,frame = cam.read()\n",
    "        \n",
    "        if ret:\n",
    "             \n",
    "            # if video is still left continue creating images\n",
    "            file_name = f'{images_path}/frame' + str(current_frame) + '.jpg'\n",
    "            #print ('Creating...' + file_name)\n",
    "            # print('frame rate', frame_rate)\n",
    "\n",
    "\n",
    "            #print(current_frame,frame_rate,frames_per_second)\n",
    "            if current_frame % (math.floor(frame_rate/frames_per_second)) == 0:\n",
    "\n",
    "                # adding frame to list\n",
    "                frame_list.append(frame)\n",
    "#                 print(current_frame,file_name,frame)\n",
    "                # writing selected frames to images_path\n",
    "                cv2.imwrite(file_name, frame)\n",
    "    \n",
    "    \n",
    "            # increasing counter so that it will\n",
    "            # show how many frames are created\n",
    "            current_frame += 1\n",
    "        else:\n",
    "            break\n",
    "    \n",
    "    # Release all space and windows once done\n",
    "    cam.release()\n",
    "#     cv2.destroyAllWindows()\n",
    "\n",
    "    return frame_list"
   ]
  },
  {
   "cell_type": "markdown",
   "id": "41cdb8ad",
   "metadata": {
    "papermill": {
     "duration": 0.007881,
     "end_time": "2022-08-09T20:04:30.184682",
     "exception": false,
     "start_time": "2022-08-09T20:04:30.176801",
     "status": "completed"
    },
    "tags": []
   },
   "source": [
    "# collecting least frames,required for finding unique slides"
   ]
  },
  {
   "cell_type": "code",
   "execution_count": 8,
   "id": "87fdc384",
   "metadata": {
    "execution": {
     "iopub.execute_input": "2022-08-09T20:04:30.203272Z",
     "iopub.status.busy": "2022-08-09T20:04:30.201640Z",
     "iopub.status.idle": "2022-08-09T20:06:05.983485Z",
     "shell.execute_reply": "2022-08-09T20:06:05.982475Z"
    },
    "papermill": {
     "duration": 95.802849,
     "end_time": "2022-08-09T20:06:05.995539",
     "exception": false,
     "start_time": "2022-08-09T20:04:30.192690",
     "status": "completed"
    },
    "tags": []
   },
   "outputs": [
    {
     "name": "stdout",
     "output_type": "stream",
     "text": [
      "CPU times: user 2min 33s, sys: 3.25 s, total: 2min 37s\n",
      "Wall time: 1min 35s\n"
     ]
    },
    {
     "data": {
      "text/plain": [
       "935"
      ]
     },
     "execution_count": 8,
     "metadata": {},
     "output_type": "execute_result"
    }
   ],
   "source": [
    "%%time\n",
    "\n",
    "frames = video_to_images(filename, frames_per_second=hp.frames_per_second)\n",
    "len(frames)"
   ]
  },
  {
   "cell_type": "markdown",
   "id": "8e31c0e5",
   "metadata": {
    "papermill": {
     "duration": 0.007988,
     "end_time": "2022-08-09T20:06:06.012208",
     "exception": false,
     "start_time": "2022-08-09T20:06:06.004220",
     "status": "completed"
    },
    "tags": []
   },
   "source": [
    "# Converting saved images directory into zip directory so that we can remove the folder later"
   ]
  },
  {
   "cell_type": "code",
   "execution_count": 9,
   "id": "b2ab0420",
   "metadata": {
    "execution": {
     "iopub.execute_input": "2022-08-09T20:06:06.030241Z",
     "iopub.status.busy": "2022-08-09T20:06:06.029910Z",
     "iopub.status.idle": "2022-08-09T20:06:09.347672Z",
     "shell.execute_reply": "2022-08-09T20:06:09.346679Z"
    },
    "papermill": {
     "duration": 3.329757,
     "end_time": "2022-08-09T20:06:09.350245",
     "exception": false,
     "start_time": "2022-08-09T20:06:06.020488",
     "status": "completed"
    },
    "tags": []
   },
   "outputs": [],
   "source": [
    "\n",
    "def zipdir(path, ziph):\n",
    "    # ziph is zipfile handle\n",
    "    for root, dirs, files in os.walk(path):\n",
    "        for file in files:\n",
    "            ziph.write(os.path.join(root, file), \n",
    "                       os.path.relpath(os.path.join(root, file), \n",
    "                                       os.path.join(path, '..')))\n",
    "\n",
    "with zipfile.ZipFile('images.zip', 'w', zipfile.ZIP_DEFLATED) as zipf:\n",
    "    zipdir('./images/', zipf)"
   ]
  },
  {
   "cell_type": "code",
   "execution_count": 10,
   "id": "a158a3e3",
   "metadata": {
    "execution": {
     "iopub.execute_input": "2022-08-09T20:06:09.368229Z",
     "iopub.status.busy": "2022-08-09T20:06:09.367911Z",
     "iopub.status.idle": "2022-08-09T20:06:09.378980Z",
     "shell.execute_reply": "2022-08-09T20:06:09.378133Z"
    },
    "papermill": {
     "duration": 0.022525,
     "end_time": "2022-08-09T20:06:09.381330",
     "exception": false,
     "start_time": "2022-08-09T20:06:09.358805",
     "status": "completed"
    },
    "tags": []
   },
   "outputs": [
    {
     "data": {
      "text/plain": [
       "['frame0.jpg',\n",
       " 'frame50.jpg',\n",
       " 'frame100.jpg',\n",
       " 'frame150.jpg',\n",
       " 'frame200.jpg',\n",
       " 'frame250.jpg',\n",
       " 'frame300.jpg',\n",
       " 'frame350.jpg',\n",
       " 'frame400.jpg',\n",
       " 'frame450.jpg',\n",
       " 'frame500.jpg',\n",
       " 'frame550.jpg',\n",
       " 'frame600.jpg',\n",
       " 'frame650.jpg',\n",
       " 'frame700.jpg',\n",
       " 'frame750.jpg',\n",
       " 'frame800.jpg',\n",
       " 'frame850.jpg',\n",
       " 'frame900.jpg',\n",
       " 'frame950.jpg']"
      ]
     },
     "execution_count": 10,
     "metadata": {},
     "output_type": "execute_result"
    }
   ],
   "source": [
    "images = os.listdir('./images')\n",
    "images.sort(key=lambda f: int(''.join(filter(str.isdigit, f))))\n",
    "images[:20]"
   ]
  },
  {
   "cell_type": "markdown",
   "id": "37bd976e",
   "metadata": {
    "papermill": {
     "duration": 0.008133,
     "end_time": "2022-08-09T20:06:09.397519",
     "exception": false,
     "start_time": "2022-08-09T20:06:09.389386",
     "status": "completed"
    },
    "tags": []
   },
   "source": [
    "# structural similarity index measure (SSIM) calculation using GPU"
   ]
  },
  {
   "cell_type": "markdown",
   "id": "2e9f9abd",
   "metadata": {
    "papermill": {
     "duration": 0.008169,
     "end_time": "2022-08-09T20:06:09.413983",
     "exception": false,
     "start_time": "2022-08-09T20:06:09.405814",
     "status": "completed"
    },
    "tags": []
   },
   "source": [
    "if the consecutive image pair gets ssim score above hp.ssim_threshold then we consider first image from the pair as it's duplicate or say near duplicate then we increment i,j for next comparison to filter redundant samples using high ssim threshold like -> score < hp.ssim_threshold\n",
    "\n",
    "using this approach we are reducing duplicate frames first, the code cell below is fast enough as it computes SSIM on gpu,,,in cpu ssim took longer to finish calculation. this step helps us reduce unwanted samples faster so later dbnet gets less sample to deal with **(it helps reduce overall time to convert videos into readable pdf slides)**"
   ]
  },
  {
   "cell_type": "code",
   "execution_count": 11,
   "id": "3bdda05e",
   "metadata": {
    "execution": {
     "iopub.execute_input": "2022-08-09T20:06:09.431914Z",
     "iopub.status.busy": "2022-08-09T20:06:09.431646Z",
     "iopub.status.idle": "2022-08-09T20:06:54.305374Z",
     "shell.execute_reply": "2022-08-09T20:06:54.304322Z"
    },
    "papermill": {
     "duration": 44.894135,
     "end_time": "2022-08-09T20:06:54.316470",
     "exception": false,
     "start_time": "2022-08-09T20:06:09.422335",
     "status": "completed"
    },
    "tags": []
   },
   "outputs": [
    {
     "name": "stdout",
     "output_type": "stream",
     "text": [
      "CPU times: user 41 s, sys: 2.17 s, total: 43.1 s\n",
      "Wall time: 44.9 s\n"
     ]
    }
   ],
   "source": [
    "%%time\n",
    "\n",
    "transform = transforms.ToTensor()\n",
    "ssim = SSIM().cuda()\n",
    "images_path = f'./filtered' \n",
    "if not os.path.exists(images_path):\n",
    "    os.makedirs(images_path)\n",
    "    \n",
    "def calculate_ssim(image,image1,write_img = True):\n",
    "    x = transform(image).unsqueeze(0).cuda() # .cuda() for GPU\n",
    "    y = transform(image1).unsqueeze(0).cuda()\n",
    "\n",
    "    \n",
    "    score = ssim(x, y).data.tolist()\n",
    "\n",
    "    if(score > hp.ssim_threshold):\n",
    "        return score\n",
    "    if(write_img):\n",
    "        cv2.imwrite(f'./{images_path}/{images[idx]}',image)\n",
    "    return score\n",
    "        \n",
    "for idx in range(len(images) - 1):\n",
    "    image = cv2.imread(f'./images/{images[idx]}')\n",
    "    image1 = cv2.imread(f'./images/{images[idx+1]}')\n",
    "    score = calculate_ssim(image,image1)"
   ]
  },
  {
   "cell_type": "code",
   "execution_count": 12,
   "id": "d7ce8fa7",
   "metadata": {
    "execution": {
     "iopub.execute_input": "2022-08-09T20:06:54.335703Z",
     "iopub.status.busy": "2022-08-09T20:06:54.335383Z",
     "iopub.status.idle": "2022-08-09T20:06:54.618935Z",
     "shell.execute_reply": "2022-08-09T20:06:54.618019Z"
    },
    "papermill": {
     "duration": 0.295406,
     "end_time": "2022-08-09T20:06:54.621215",
     "exception": false,
     "start_time": "2022-08-09T20:06:54.325809",
     "status": "completed"
    },
    "tags": []
   },
   "outputs": [
    {
     "name": "stdout",
     "output_type": "stream",
     "text": [
      "['frame0.jpg', 'frame50.jpg', 'frame150.jpg', 'frame200.jpg', 'frame350.jpg', 'frame500.jpg', 'frame600.jpg', 'frame650.jpg', 'frame750.jpg', 'frame850.jpg'] 77\n"
     ]
    }
   ],
   "source": [
    "images = os.listdir('./filtered')\n",
    "images.sort(key=lambda f: int(''.join(filter(str.isdigit, f))))\n",
    "print(images[:10],len(images))\n",
    "\n",
    "with zipfile.ZipFile('filtered.zip', 'w', zipfile.ZIP_DEFLATED) as zipf:\n",
    "    zipdir('./filtered/', zipf)\n",
    "\n",
    "    "
   ]
  },
  {
   "cell_type": "markdown",
   "id": "f29f41a4",
   "metadata": {
    "papermill": {
     "duration": 0.008429,
     "end_time": "2022-08-09T20:06:54.638440",
     "exception": false,
     "start_time": "2022-08-09T20:06:54.630011",
     "status": "completed"
    },
    "tags": []
   },
   "source": [
    "# frame pair visualization"
   ]
  },
  {
   "cell_type": "code",
   "execution_count": 13,
   "id": "68a267af",
   "metadata": {
    "execution": {
     "iopub.execute_input": "2022-08-09T20:06:54.657076Z",
     "iopub.status.busy": "2022-08-09T20:06:54.656282Z",
     "iopub.status.idle": "2022-08-09T20:07:57.601402Z",
     "shell.execute_reply": "2022-08-09T20:07:57.599210Z"
    },
    "papermill": {
     "duration": 62.956936,
     "end_time": "2022-08-09T20:07:57.603773",
     "exception": false,
     "start_time": "2022-08-09T20:06:54.646837",
     "status": "completed"
    },
    "tags": []
   },
   "outputs": [
    {
     "name": "stdout",
     "output_type": "stream",
     "text": [
      "download https://paddleocr.bj.bcebos.com/PP-OCRv3/multilingual/Multilingual_PP-OCRv3_det_infer.tar to /root/.paddleocr/whl/det/ml/Multilingual_PP-OCRv3_det_infer/Multilingual_PP-OCRv3_det_infer.tar\n"
     ]
    },
    {
     "name": "stderr",
     "output_type": "stream",
     "text": [
      "100%|██████████| 3.85M/3.85M [00:15<00:00, 254kiB/s]\n"
     ]
    },
    {
     "name": "stdout",
     "output_type": "stream",
     "text": [
      "download https://paddleocr.bj.bcebos.com/PP-OCRv3/multilingual/arabic_PP-OCRv3_rec_infer.tar to /root/.paddleocr/whl/rec/arabic/arabic_PP-OCRv3_rec_infer/arabic_PP-OCRv3_rec_infer.tar\n"
     ]
    },
    {
     "name": "stderr",
     "output_type": "stream",
     "text": [
      "100%|██████████| 9.98M/9.98M [00:21<00:00, 467kiB/s] \n"
     ]
    },
    {
     "name": "stdout",
     "output_type": "stream",
     "text": [
      "download https://paddleocr.bj.bcebos.com/dygraph_v2.0/ch/ch_ppocr_mobile_v2.0_cls_infer.tar to /root/.paddleocr/whl/cls/ch_ppocr_mobile_v2.0_cls_infer/ch_ppocr_mobile_v2.0_cls_infer.tar\n"
     ]
    },
    {
     "name": "stderr",
     "output_type": "stream",
     "text": [
      "100%|██████████| 1.45M/1.45M [00:10<00:00, 132kiB/s]"
     ]
    },
    {
     "name": "stdout",
     "output_type": "stream",
     "text": [
      "[2022/08/09 20:07:45] ppocr DEBUG: Namespace(alpha=1.0, benchmark=False, beta=1.0, cls_batch_num=6, cls_image_shape='3, 48, 192', cls_model_dir='/root/.paddleocr/whl/cls/ch_ppocr_mobile_v2.0_cls_infer', cls_thresh=0.9, cpu_threads=10, crop_res_save_dir='./output', det=True, det_algorithm='DB', det_db_box_thresh=0.6, det_db_score_mode='fast', det_db_thresh=0.3, det_db_unclip_ratio=1.5, det_east_cover_thresh=0.1, det_east_nms_thresh=0.2, det_east_score_thresh=0.8, det_fce_box_type='poly', det_limit_side_len=960, det_limit_type='max', det_model_dir='/root/.paddleocr/whl/det/ml/Multilingual_PP-OCRv3_det_infer', det_pse_box_thresh=0.85, det_pse_box_type='quad', det_pse_min_area=16, det_pse_scale=1, det_pse_thresh=0, det_sast_nms_thresh=0.2, det_sast_polygon=False, det_sast_score_thresh=0.5, draw_img_save_dir='./inference_results', drop_score=0.5, e2e_algorithm='PGNet', e2e_char_dict_path='./ppocr/utils/ic15_dict.txt', e2e_limit_side_len=768, e2e_limit_type='max', e2e_model_dir=None, e2e_pgnet_mode='fast', e2e_pgnet_score_thresh=0.5, e2e_pgnet_valid_set='totaltext', enable_mkldnn=False, fourier_degree=5, gpu_mem=500, help='==SUPPRESS==', image_dir=None, ir_optim=True, label_list=['0', '180'], lang='ar', layout=True, layout_label_map=None, layout_path_model='lp://PubLayNet/ppyolov2_r50vd_dcn_365e_publaynet/config', max_batch_size=10, max_text_length=25, min_subgraph_size=15, mode='structure', ocr=True, ocr_version='PP-OCRv3', output='./output', precision='fp32', process_id=0, rec=True, rec_algorithm='SVTR_LCNet', rec_batch_num=6, rec_char_dict_path='/opt/conda/lib/python3.7/site-packages/paddleocr/ppocr/utils/dict/arabic_dict.txt', rec_image_shape='3, 48, 320', rec_model_dir='/root/.paddleocr/whl/rec/arabic/arabic_PP-OCRv3_rec_infer', save_crop_res=False, save_log_path='./log_output/', scales=[8, 16, 32], show_log=True, structure_version='PP-STRUCTURE', table=True, table_char_dict_path=None, table_max_len=488, table_model_dir=None, total_process_num=1, type='ocr', use_angle_cls=True, use_dilation=False, use_gpu=True, use_mp=False, use_onnx=False, use_pdserving=False, use_space_char=True, use_tensorrt=False, vis_font_path='./doc/fonts/simfang.ttf', warmup=False)\n"
     ]
    },
    {
     "name": "stderr",
     "output_type": "stream",
     "text": [
      "\n"
     ]
    },
    {
     "data": {
      "image/png": "[encoded data removed]",
      "text/plain": [
       "<Figure size 1440x1440 with 2 Axes>"
      ]
     },
     "metadata": {
      "needs_background": "light"
     },
     "output_type": "display_data"
    },
    {
     "name": "stdout",
     "output_type": "stream",
     "text": [
      "Image similarity 0.9333708768565884\n"
     ]
    }
   ],
   "source": [
    "\n",
    "\n",
    "#https://gist.github.com/mstankie/71e49f628beac320953e0460b8ee78c2\n",
    "# 2. Declare PaddleOCR class\n",
    "ocr = PaddleOCR(use_angle_cls=True, lang='ar',use_gpu = True)  \n",
    "\n",
    "def viz_img_pair(images,i,j):\n",
    "    image = cv2.imread(f'./filtered/{images[i]}')\n",
    "    image1 = cv2.imread(f'./filtered/{images[j]}')\n",
    "    \n",
    "    result = ocr.ocr(image, rec=False)\n",
    "    boxes = [line[0] for line in result]\n",
    "    for box in result:\n",
    "        box = np.reshape(np.array(box), [-1,1,2]).astype(np.int64)\n",
    "        image = cv2.polylines(np.array(image), [box], True, (255,0,0), 2)\n",
    "\n",
    "    f = plt.figure(figsize=(20,20))\n",
    "    f.add_subplot(1,2, 1)\n",
    "    plt.title(f'{images[i]}', fontdict={'fontsize':20})\n",
    "    plt.imshow(image)\n",
    "    \n",
    "    result = ocr.ocr(image1, rec=False)\n",
    "    boxes = [line[0] for line in result]\n",
    "    for box in result:\n",
    "        box = np.reshape(np.array(box), [-1,1,2]).astype(np.int64)\n",
    "        image1 = cv2.polylines(np.array(image1), [box], True, (255,0,0), 2)\n",
    "\n",
    "    f.add_subplot(1,2, 2)\n",
    "    plt.title(f'{images[i+1]}', fontdict={'fontsize':20})\n",
    "    plt.imshow(image1)\n",
    "    plt.show(block=True)\n",
    "\n",
    "    # Convert images to grayscale\n",
    "    before_gray = cv2.cvtColor(image, cv2.COLOR_BGR2GRAY)\n",
    "    after_gray = cv2.cvtColor(image1, cv2.COLOR_BGR2GRAY)\n",
    "\n",
    "    # Compute SSIM between two images\n",
    "    (score, diff) = structural_similarity(before_gray, after_gray, full=True)\n",
    "    print(\"Image similarity\", score)\n",
    "    \n",
    "if(hp.visualize_img_pairs):\n",
    "    viz_img_pair(images=images,i=4,j=5)"
   ]
  },
  {
   "cell_type": "markdown",
   "id": "fd4fd84a",
   "metadata": {
    "papermill": {
     "duration": 0.020572,
     "end_time": "2022-08-09T20:07:57.644770",
     "exception": false,
     "start_time": "2022-08-09T20:07:57.624198",
     "status": "completed"
    },
    "tags": []
   },
   "source": [
    "# Sort bboxes detected by  db_resnet50 text detection algorithm of paddleocr"
   ]
  },
  {
   "cell_type": "code",
   "execution_count": 14,
   "id": "1def6baf",
   "metadata": {
    "execution": {
     "iopub.execute_input": "2022-08-09T20:07:57.687478Z",
     "iopub.status.busy": "2022-08-09T20:07:57.686552Z",
     "iopub.status.idle": "2022-08-09T20:07:57.695120Z",
     "shell.execute_reply": "2022-08-09T20:07:57.693986Z"
    },
    "papermill": {
     "duration": 0.032307,
     "end_time": "2022-08-09T20:07:57.697579",
     "exception": false,
     "start_time": "2022-08-09T20:07:57.665272",
     "status": "completed"
    },
    "tags": []
   },
   "outputs": [],
   "source": [
    "# https://github.com/vigneshgig/sorting_algorthim_for_bounding_box_from_left_to_right_and_top_to_bottom\n",
    "\n",
    "def sorted_boxes(dt_boxes):\n",
    "    \"\"\"\n",
    "    Sort text boxes in order from top to bottom, left to right\n",
    "    args:\n",
    "        dt_boxes(array):detected text boxes with shape [4, 2]\n",
    "    return:\n",
    "        sorted boxes(array) with shape [4, 2]\n",
    "    \"\"\"\n",
    "    num_boxes = dt_boxes.shape[0]\n",
    "    sorted_boxes = sorted(dt_boxes, key=lambda x: (x[0][1], x[0][0]))\n",
    "    _boxes = list(sorted_boxes)\n",
    "\n",
    "    for i in range(num_boxes - 1):\n",
    "        if abs(_boxes[i + 1][0][1] - _boxes[i][0][1]) < 100 and (_boxes[i + 1][0][0] < _boxes[i][0][0]):\n",
    "            tmp = _boxes[i]\n",
    "            _boxes[i] = _boxes[i + 1]\n",
    "            _boxes[i + 1] = tmp\n",
    "    return _boxes\n"
   ]
  },
  {
   "cell_type": "markdown",
   "id": "126134f8",
   "metadata": {
    "papermill": {
     "duration": 0.020008,
     "end_time": "2022-08-09T20:07:57.737578",
     "exception": false,
     "start_time": "2022-08-09T20:07:57.717570",
     "status": "completed"
    },
    "tags": []
   },
   "source": [
    "# Detect all unique and informative images and save them in folder name unique"
   ]
  },
  {
   "cell_type": "markdown",
   "id": "c07d00e4",
   "metadata": {
    "papermill": {
     "duration": 0.019972,
     "end_time": "2022-08-09T20:07:57.777447",
     "exception": false,
     "start_time": "2022-08-09T20:07:57.757475",
     "status": "completed"
    },
    "tags": []
   },
   "source": [
    "on consecutive frame pair,we first detect and sort text bboxes and apply iou on top of them, we compute and count_matched_bboxes iou with high threshold and check if image pair has got IOU count greater or equal to the previous pair or not,if yes, we save and update the i'th image/frame otherwise we move on to next i,j image pair comparison.\n",
    "\n",
    "this way we try to eliminate more redundant frames"
   ]
  },
  {
   "cell_type": "code",
   "execution_count": 15,
   "id": "e3ff12c8",
   "metadata": {
    "execution": {
     "iopub.execute_input": "2022-08-09T20:07:57.819391Z",
     "iopub.status.busy": "2022-08-09T20:07:57.819026Z",
     "iopub.status.idle": "2022-08-09T20:07:57.833584Z",
     "shell.execute_reply": "2022-08-09T20:07:57.832596Z"
    },
    "papermill": {
     "duration": 0.038024,
     "end_time": "2022-08-09T20:07:57.835586",
     "exception": false,
     "start_time": "2022-08-09T20:07:57.797562",
     "status": "completed"
    },
    "tags": []
   },
   "outputs": [],
   "source": [
    "images_path = f'./unique' \n",
    "if not os.path.exists(images_path):\n",
    "    os.makedirs(images_path)\n",
    "    \n",
    "\n",
    "def calculate_iou(box_1, box_2):\n",
    "    poly_1 = Polygon(box_1)\n",
    "    poly_2 = Polygon(box_2)\n",
    "    iou = poly_1.intersection(poly_2).area / poly_1.union(poly_2).area\n",
    "    return iou\n",
    "\n",
    "def count_matched_bboxes(img,img1,detector):\n",
    "    \n",
    "    dt_boxes,_= detector.text_detector(img) \n",
    "    dt_boxes=sorted_boxes(dt_boxes)\n",
    "    \n",
    "    dt_boxes1,_= detector.text_detector(img1) \n",
    "    dt_boxes1=sorted_boxes(dt_boxes1)\n",
    "\n",
    "    minimum = min(len(dt_boxes), len(dt_boxes1))\n",
    "    \n",
    "    if(len(dt_boxes)<1):\n",
    "        # we don't care if there is no text\n",
    "        return 0,minimum\n",
    "    \n",
    "    if(len(dt_boxes1)<1):\n",
    "        # we don't care if there is no text\n",
    "        return 0,minimum\n",
    "    #         diff = abs(len(dt_boxes)-len(dt_boxes1))\n",
    "\n",
    "    count = 0\n",
    "    if(len(dt_boxes)>len(dt_boxes1)):\n",
    "        for box_n in range(len(dt_boxes1)):\n",
    "            for box_num in range(len(dt_boxes)):\n",
    "                iou = calculate_iou(dt_boxes[box_num], dt_boxes1[box_n])\n",
    "                if(iou > hp.iou_threshold):\n",
    "                    count+=1\n",
    "    else:\n",
    "        for box_num in range(len(dt_boxes)):\n",
    "            for box_n in range(len(dt_boxes1)):\n",
    "                iou = calculate_iou(dt_boxes[box_num], dt_boxes1[box_n])\n",
    "                if(iou > hp.iou_threshold):\n",
    "                    count+=1\n",
    "    \n",
    "    return count,minimum\n",
    "\n",
    "\n",
    "\n",
    "def save_unique_images(detector,folder):\n",
    "    '''\n",
    "    detect all unique and informative images and save them\n",
    "    images using db_resnet50 text detection algorithm of paddleocr\n",
    "    args :\n",
    "        detector : text detection algorithm (default db_resnet50 of paddle)\n",
    "        folder   : folder loc containing all images\n",
    "    '''\n",
    "    \n",
    "    files = os.listdir(folder)\n",
    "    files.sort(key=lambda f: int(''.join(filter(str.isdigit, f))))\n",
    "\n",
    "    for i in range(len(files)-1):\n",
    "        prev = 1\n",
    "        for j in range(i+1, len(files)):\n",
    "            img_path=f\"{folder}/{files[i]}\"\n",
    "            img=cv2.imread(img_path)\n",
    "\n",
    "            img_path=f\"{folder}/{files[j]}\"\n",
    "            img1=cv2.imread(img_path)\n",
    "\n",
    "            try:\n",
    "                img=cv2.cvtColor(img,cv2.COLOR_BGR2RGB)\n",
    "                img1=cv2.cvtColor(img1,cv2.COLOR_BGR2RGB)\n",
    "            except:\n",
    "                print(\"failed during COLOR_BGR2RGB image...\")\n",
    "           \n",
    "            count,_ = count_matched_bboxes(img,img1,detector)\n",
    "            if(count>= prev):\n",
    "                prev = count\n",
    "                cv2.imwrite(f'./{images_path}/{files[i]}',img1)\n",
    "            else:    \n",
    "                break\n",
    "\n",
    "#             maximum = max(len(dt_boxes), len(dt_boxes1))\n",
    "#             if(count>= maximum * 0.6):\n",
    "#                 cv2.imwrite(f'./{images_path}/{files[j]}',img1)\n",
    "#             break\n",
    "\n",
    "        \n",
    "    "
   ]
  },
  {
   "cell_type": "markdown",
   "id": "515fdb60",
   "metadata": {
    "papermill": {
     "duration": 0.019622,
     "end_time": "2022-08-09T20:07:57.875217",
     "exception": false,
     "start_time": "2022-08-09T20:07:57.855595",
     "status": "completed"
    },
    "tags": []
   },
   "source": [
    "# Find and reduce redundant frames"
   ]
  },
  {
   "cell_type": "code",
   "execution_count": 16,
   "id": "72d0781b",
   "metadata": {
    "execution": {
     "iopub.execute_input": "2022-08-09T20:07:57.916672Z",
     "iopub.status.busy": "2022-08-09T20:07:57.916408Z",
     "iopub.status.idle": "2022-08-09T20:08:18.440772Z",
     "shell.execute_reply": "2022-08-09T20:08:18.439293Z"
    },
    "papermill": {
     "duration": 20.548725,
     "end_time": "2022-08-09T20:08:18.443663",
     "exception": false,
     "start_time": "2022-08-09T20:07:57.894938",
     "status": "completed"
    },
    "tags": []
   },
   "outputs": [
    {
     "name": "stdout",
     "output_type": "stream",
     "text": [
      "CPU times: user 21.4 s, sys: 712 ms, total: 22.1 s\n",
      "Wall time: 20.5 s\n"
     ]
    }
   ],
   "source": [
    "%%time\n",
    "\n",
    "\n",
    "folder = './filtered'\n",
    "\n",
    "save_unique_images(detector = ocr,folder=folder)"
   ]
  },
  {
   "cell_type": "code",
   "execution_count": 17,
   "id": "52a25ffc",
   "metadata": {
    "execution": {
     "iopub.execute_input": "2022-08-09T20:08:18.486474Z",
     "iopub.status.busy": "2022-08-09T20:08:18.486175Z",
     "iopub.status.idle": "2022-08-09T20:08:18.496013Z",
     "shell.execute_reply": "2022-08-09T20:08:18.494548Z"
    },
    "papermill": {
     "duration": 0.033589,
     "end_time": "2022-08-09T20:08:18.498555",
     "exception": false,
     "start_time": "2022-08-09T20:08:18.464966",
     "status": "completed"
    },
    "tags": []
   },
   "outputs": [
    {
     "name": "stdout",
     "output_type": "stream",
     "text": [
      "51\n"
     ]
    },
    {
     "data": {
      "text/plain": [
       "['frame27650.jpg',\n",
       " 'frame18850.jpg',\n",
       " 'frame37200.jpg',\n",
       " 'frame35950.jpg',\n",
       " 'frame45450.jpg',\n",
       " 'frame21000.jpg',\n",
       " 'frame20050.jpg',\n",
       " 'frame9350.jpg',\n",
       " 'frame41700.jpg',\n",
       " 'frame24900.jpg',\n",
       " 'frame45400.jpg',\n",
       " 'frame11500.jpg',\n",
       " 'frame16300.jpg',\n",
       " 'frame34050.jpg',\n",
       " 'frame46050.jpg',\n",
       " 'frame23550.jpg',\n",
       " 'frame18150.jpg',\n",
       " 'frame40100.jpg',\n",
       " 'frame750.jpg',\n",
       " 'frame10450.jpg',\n",
       " 'frame15300.jpg',\n",
       " 'frame41350.jpg',\n",
       " 'frame26150.jpg',\n",
       " 'frame150.jpg',\n",
       " 'frame43800.jpg',\n",
       " 'frame35150.jpg',\n",
       " 'frame14700.jpg',\n",
       " 'frame23500.jpg',\n",
       " 'frame600.jpg',\n",
       " 'frame650.jpg',\n",
       " 'frame10850.jpg',\n",
       " 'frame350.jpg',\n",
       " 'frame44950.jpg',\n",
       " 'frame42600.jpg',\n",
       " 'frame36500.jpg',\n",
       " 'frame10000.jpg',\n",
       " 'frame30200.jpg',\n",
       " 'frame14250.jpg',\n",
       " 'frame40300.jpg',\n",
       " 'frame22650.jpg',\n",
       " 'frame19550.jpg',\n",
       " 'frame37850.jpg',\n",
       " 'frame43850.jpg',\n",
       " 'frame22450.jpg',\n",
       " 'frame12850.jpg',\n",
       " 'frame3900.jpg',\n",
       " 'frame4100.jpg',\n",
       " 'frame37650.jpg',\n",
       " 'frame19800.jpg',\n",
       " 'frame23900.jpg',\n",
       " 'frame9750.jpg']"
      ]
     },
     "execution_count": 17,
     "metadata": {},
     "output_type": "execute_result"
    }
   ],
   "source": [
    "print(len(os.listdir('./unique')))\n",
    "os.listdir('./unique')"
   ]
  },
  {
   "cell_type": "markdown",
   "id": "54ebe247",
   "metadata": {
    "papermill": {
     "duration": 0.020068,
     "end_time": "2022-08-09T20:08:18.539709",
     "exception": false,
     "start_time": "2022-08-09T20:08:18.519641",
     "status": "completed"
    },
    "tags": []
   },
   "source": [
    "# save unique Frames to pdf"
   ]
  },
  {
   "cell_type": "code",
   "execution_count": 18,
   "id": "47b79b15",
   "metadata": {
    "execution": {
     "iopub.execute_input": "2022-08-09T20:08:18.582574Z",
     "iopub.status.busy": "2022-08-09T20:08:18.581767Z",
     "iopub.status.idle": "2022-08-09T20:08:18.659573Z",
     "shell.execute_reply": "2022-08-09T20:08:18.658196Z"
    },
    "papermill": {
     "duration": 0.101513,
     "end_time": "2022-08-09T20:08:18.661782",
     "exception": false,
     "start_time": "2022-08-09T20:08:18.560269",
     "status": "completed"
    },
    "tags": []
   },
   "outputs": [
    {
     "name": "stdout",
     "output_type": "stream",
     "text": [
      "output_folder_screenshot_path ./unique\n",
      "output_pdf_path ./w.o.f_General embryology (Part-1) by Prof. Dr. Md. Ashfaqur Rahman.pdf\n",
      "converting images to pdf..\n",
      "Pdf Created!\n",
      "pdf saved at ./w.o.f_General embryology (Part-1) by Prof. Dr. Md. Ashfaqur Rahman.pdf\n"
     ]
    }
   ],
   "source": [
    "\n",
    "def unique_frames_to_pdf(output_folder_screenshot_path,without_final_filter = False):\n",
    "    if(without_final_filter):\n",
    "        output_pdf_path = f'./w.o.f_{hp.title}.pdf'\n",
    "    else:\n",
    "        output_pdf_path = f'./{hp.title}.pdf'\n",
    "    print('output_folder_screenshot_path', output_folder_screenshot_path)\n",
    "    print('output_pdf_path', output_pdf_path)\n",
    "    print('converting images to pdf..')\n",
    "    images = os.listdir(output_folder_screenshot_path)\n",
    "    images.sort(key=lambda f: int(''.join(filter(str.isdigit, f))))\n",
    "    for i in range(len(images)):\n",
    "        images[i] = f\"{output_folder_screenshot_path}/{images[i]}\"\n",
    "\n",
    "    with open(output_pdf_path, \"wb\") as f:\n",
    "        f.write(img2pdf.convert(images))\n",
    "    print('Pdf Created!')\n",
    "    print('pdf saved at', output_pdf_path)\n",
    "    \n",
    "if(hp.withoutfinal_filter):\n",
    "    unique_frames_to_pdf('./unique', True)"
   ]
  },
  {
   "cell_type": "markdown",
   "id": "d74501f8",
   "metadata": {
    "papermill": {
     "duration": 0.02058,
     "end_time": "2022-08-09T20:08:18.703319",
     "exception": false,
     "start_time": "2022-08-09T20:08:18.682739",
     "status": "completed"
    },
    "tags": []
   },
   "source": [
    "# final filtering"
   ]
  },
  {
   "cell_type": "markdown",
   "id": "21d658d8",
   "metadata": {
    "papermill": {
     "duration": 0.020062,
     "end_time": "2022-08-09T20:08:18.743703",
     "exception": false,
     "start_time": "2022-08-09T20:08:18.723641",
     "status": "completed"
    },
    "tags": []
   },
   "source": [
    "at this point,it's possible that there still can exist few more redundant samples,they don't always look like redundant because of complex animation or other stuffs but according to their other key features like \"mid to near high bbox overlap coverage\", they are redundant,we try to do one last filtering to detect and eliminate those redundant samples\n",
    "\n",
    "\n",
    "again,\n",
    "with high threshold we check the ssim score of current image pair and check if they are similar or not,if yes,we delete first one of them,if no then  we do next step validation,we pass the frame pair to dbresnet50 and count the matched bboxes of these consecutive frames. if count>= minimum * hp.conf_thr  that means the we have high bbox detection overlaps which indicates that slides are most likely to contain similar informations,hence we eliminate the first one from the consecutive pair and use the 2nd one for next i,j comparison before making decision that \"it's unique\"."
   ]
  },
  {
   "cell_type": "code",
   "execution_count": 19,
   "id": "760b604d",
   "metadata": {
    "execution": {
     "iopub.execute_input": "2022-08-09T20:08:18.785936Z",
     "iopub.status.busy": "2022-08-09T20:08:18.785626Z",
     "iopub.status.idle": "2022-08-09T20:08:26.475044Z",
     "shell.execute_reply": "2022-08-09T20:08:26.473918Z"
    },
    "papermill": {
     "duration": 7.71451,
     "end_time": "2022-08-09T20:08:26.478742",
     "exception": false,
     "start_time": "2022-08-09T20:08:18.764232",
     "status": "completed"
    },
    "tags": []
   },
   "outputs": [
    {
     "name": "stdout",
     "output_type": "stream",
     "text": [
      "28\n",
      "CPU times: user 7.89 s, sys: 286 ms, total: 8.18 s\n",
      "Wall time: 7.68 s\n"
     ]
    }
   ],
   "source": [
    "%%time\n",
    "\n",
    "images = os.listdir('./unique')\n",
    "images.sort(key=lambda f: int(''.join(filter(str.isdigit, f))))\n",
    "\n",
    "for idx in range(len(images) - 1):\n",
    "    \n",
    "    image = cv2.imread(f'./unique/{images[idx]}')\n",
    "    image1 = cv2.imread(f'./unique/{images[idx+1]}')\n",
    "    score = calculate_ssim(image,image1,write_img = False)\n",
    "    \n",
    "    if(score>hp.ssim_threshold):\n",
    "        os.remove(f'./unique/{images[idx]}')\n",
    "        continue\n",
    "\n",
    "    try:\n",
    "        img=cv2.cvtColor(image,cv2.COLOR_BGR2RGB)\n",
    "        img1=cv2.cvtColor(image1,cv2.COLOR_BGR2RGB)\n",
    "    except:\n",
    "        print(\"failed during COLOR_BGR2RGB image...\")\n",
    "\n",
    "    count,minimum = count_matched_bboxes(img,img1,ocr)\n",
    "\n",
    "    if(count>= minimum * hp.conf_thr):\n",
    "        os.remove(f'./unique/{images[idx]}')\n",
    "\n",
    "print(len(os.listdir('./unique')))"
   ]
  },
  {
   "cell_type": "markdown",
   "id": "77fd9c1e",
   "metadata": {
    "papermill": {
     "duration": 0.020561,
     "end_time": "2022-08-09T20:08:26.521262",
     "exception": false,
     "start_time": "2022-08-09T20:08:26.500701",
     "status": "completed"
    },
    "tags": []
   },
   "source": [
    "# convert final filtered unique frames to pdf"
   ]
  },
  {
   "cell_type": "code",
   "execution_count": 20,
   "id": "dbf54c3c",
   "metadata": {
    "execution": {
     "iopub.execute_input": "2022-08-09T20:08:26.563273Z",
     "iopub.status.busy": "2022-08-09T20:08:26.562947Z",
     "iopub.status.idle": "2022-08-09T20:08:26.595574Z",
     "shell.execute_reply": "2022-08-09T20:08:26.594662Z"
    },
    "papermill": {
     "duration": 0.056019,
     "end_time": "2022-08-09T20:08:26.597610",
     "exception": false,
     "start_time": "2022-08-09T20:08:26.541591",
     "status": "completed"
    },
    "tags": []
   },
   "outputs": [
    {
     "name": "stdout",
     "output_type": "stream",
     "text": [
      "output_folder_screenshot_path ./unique\n",
      "output_pdf_path ./General embryology (Part-1) by Prof. Dr. Md. Ashfaqur Rahman.pdf\n",
      "converting images to pdf..\n",
      "Pdf Created!\n",
      "pdf saved at ./General embryology (Part-1) by Prof. Dr. Md. Ashfaqur Rahman.pdf\n"
     ]
    }
   ],
   "source": [
    "\n",
    "unique_frames_to_pdf('./unique')"
   ]
  },
  {
   "cell_type": "code",
   "execution_count": 21,
   "id": "4940e110",
   "metadata": {
    "execution": {
     "iopub.execute_input": "2022-08-09T20:08:26.640603Z",
     "iopub.status.busy": "2022-08-09T20:08:26.640298Z",
     "iopub.status.idle": "2022-08-09T20:08:26.777821Z",
     "shell.execute_reply": "2022-08-09T20:08:26.776931Z"
    },
    "papermill": {
     "duration": 0.161572,
     "end_time": "2022-08-09T20:08:26.779900",
     "exception": false,
     "start_time": "2022-08-09T20:08:26.618328",
     "status": "completed"
    },
    "tags": []
   },
   "outputs": [
    {
     "name": "stdout",
     "output_type": "stream",
     "text": [
      "['frame150.jpg', 'frame350.jpg', 'frame600.jpg', 'frame650.jpg', 'frame750.jpg'] 28\n"
     ]
    }
   ],
   "source": [
    "\n",
    "print(images[:5],len(os.listdir('./unique')))\n",
    "with zipfile.ZipFile('unique.zip', 'w', zipfile.ZIP_DEFLATED) as zipf:\n",
    "    zipdir('./unique/', zipf)\n"
   ]
  },
  {
   "cell_type": "markdown",
   "id": "8474093b",
   "metadata": {
    "papermill": {
     "duration": 0.020776,
     "end_time": "2022-08-09T20:08:26.821106",
     "exception": false,
     "start_time": "2022-08-09T20:08:26.800330",
     "status": "completed"
    },
    "tags": []
   },
   "source": [
    "# as we have zipped everything already,we will remove the folders to reduce disk space"
   ]
  },
  {
   "cell_type": "code",
   "execution_count": 22,
   "id": "c84b6f3f",
   "metadata": {
    "execution": {
     "iopub.execute_input": "2022-08-09T20:08:26.862724Z",
     "iopub.status.busy": "2022-08-09T20:08:26.862439Z",
     "iopub.status.idle": "2022-08-09T20:08:26.867276Z",
     "shell.execute_reply": "2022-08-09T20:08:26.866159Z"
    },
    "papermill": {
     "duration": 0.028021,
     "end_time": "2022-08-09T20:08:26.869159",
     "exception": false,
     "start_time": "2022-08-09T20:08:26.841138",
     "status": "completed"
    },
    "tags": []
   },
   "outputs": [],
   "source": [
    "if(hp.rmdir):\n",
    "    shutil.rmtree('./images')\n",
    "    shutil.rmtree('./filtered')\n",
    "    shutil.rmtree('./unique')"
   ]
  },
  {
   "cell_type": "code",
   "execution_count": null,
   "id": "c2216ba5",
   "metadata": {
    "papermill": {
     "duration": 0.02112,
     "end_time": "2022-08-09T20:08:26.911073",
     "exception": false,
     "start_time": "2022-08-09T20:08:26.889953",
     "status": "completed"
    },
    "tags": []
   },
   "outputs": [],
   "source": []
  },
  {
   "cell_type": "code",
   "execution_count": null,
   "id": "8048fb04",
   "metadata": {
    "papermill": {
     "duration": 0.020435,
     "end_time": "2022-08-09T20:08:26.952464",
     "exception": false,
     "start_time": "2022-08-09T20:08:26.932029",
     "status": "completed"
    },
    "tags": []
   },
   "outputs": [],
   "source": []
  }
 ],
 "metadata": {
  "kernelspec": {
   "display_name": "Python 3",
   "language": "python",
   "name": "python3"
  },
  "language_info": {
   "codemirror_mode": {
    "name": "ipython",
    "version": 3
   },
   "file_extension": ".py",
   "mimetype": "text/x-python",
   "name": "python",
   "nbconvert_exporter": "python",
   "pygments_lexer": "ipython3",
   "version": "3.7.12"
  },
  "papermill": {
   "default_parameters": {},
   "duration": 443.177802,
   "end_time": "2022-08-09T20:08:30.094728",
   "environment_variables": {},
   "exception": null,
   "input_path": "__notebook__.ipynb",
   "output_path": "__notebook__.ipynb",
   "parameters": {},
   "start_time": "2022-08-09T20:01:06.916926",
   "version": "2.3.4"
  }
 },
 "nbformat": 4,
 "nbformat_minor": 5
}
